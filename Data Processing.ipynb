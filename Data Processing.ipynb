{
 "cells": [
  {
   "cell_type": "code",
   "execution_count": 17,
   "id": "94fcc994-4d0d-4167-b683-fe35fe455668",
   "metadata": {
    "scrolled": true
   },
   "outputs": [
    {
     "name": "stdout",
     "output_type": "stream",
     "text": [
      "Requirement already satisfied: awswrangler in /opt/conda/lib/python3.11/site-packages (3.11.0)\n",
      "Requirement already satisfied: boto3<2.0.0,>=1.20.32 in /opt/conda/lib/python3.11/site-packages (from awswrangler) (1.36.23)\n",
      "Requirement already satisfied: botocore<2.0.0,>=1.23.32 in /opt/conda/lib/python3.11/site-packages (from awswrangler) (1.36.23)\n",
      "Requirement already satisfied: numpy<3.0,>=1.26 in /opt/conda/lib/python3.11/site-packages (from awswrangler) (1.26.4)\n",
      "Requirement already satisfied: packaging<25.0,>=21.1 in /opt/conda/lib/python3.11/site-packages (from awswrangler) (24.2)\n",
      "Requirement already satisfied: pandas<3.0.0,>=1.2.0 in /opt/conda/lib/python3.11/site-packages (from awswrangler) (2.2.3)\n",
      "Requirement already satisfied: pyarrow<19.0.0,>=8.0.0 in /opt/conda/lib/python3.11/site-packages (from awswrangler) (17.0.0)\n",
      "Requirement already satisfied: typing-extensions<5.0.0,>=4.4.0 in /opt/conda/lib/python3.11/site-packages (from awswrangler) (4.12.2)\n",
      "Requirement already satisfied: jmespath<2.0.0,>=0.7.1 in /opt/conda/lib/python3.11/site-packages (from boto3<2.0.0,>=1.20.32->awswrangler) (1.0.1)\n",
      "Requirement already satisfied: s3transfer<0.12.0,>=0.11.0 in /opt/conda/lib/python3.11/site-packages (from boto3<2.0.0,>=1.20.32->awswrangler) (0.11.3)\n",
      "Requirement already satisfied: python-dateutil<3.0.0,>=2.1 in /opt/conda/lib/python3.11/site-packages (from botocore<2.0.0,>=1.23.32->awswrangler) (2.9.0.post0)\n",
      "Requirement already satisfied: urllib3!=2.2.0,<3,>=1.25.4 in /opt/conda/lib/python3.11/site-packages (from botocore<2.0.0,>=1.23.32->awswrangler) (2.3.0)\n",
      "Requirement already satisfied: pytz>=2020.1 in /opt/conda/lib/python3.11/site-packages (from pandas<3.0.0,>=1.2.0->awswrangler) (2024.1)\n",
      "Requirement already satisfied: tzdata>=2022.7 in /opt/conda/lib/python3.11/site-packages (from pandas<3.0.0,>=1.2.0->awswrangler) (2025.1)\n",
      "Requirement already satisfied: six>=1.5 in /opt/conda/lib/python3.11/site-packages (from python-dateutil<3.0.0,>=2.1->botocore<2.0.0,>=1.23.32->awswrangler) (1.17.0)\n"
     ]
    }
   ],
   "source": [
    "!pip install awswrangler"
   ]
  },
  {
   "cell_type": "code",
   "execution_count": 61,
   "id": "d2fc62e9-2dd0-45c6-b7d1-79919a3c61aa",
   "metadata": {},
   "outputs": [],
   "source": [
    "import awswrangler as wr\n",
    "from datetime import date\n",
    "import pandas as pd\n",
    "import numpy as np\n",
    "import matplotlib.pyplot as plt\n",
    "import seaborn as sns\n",
    "import io\n",
    "import boto3\n",
    "from sklearn.preprocessing import RobustScaler, StandardScaler\n",
    "from sklearn.ensemble import RandomForestClassifier\n",
    "import joblib"
   ]
  },
  {
   "cell_type": "code",
   "execution_count": 39,
   "id": "08b8ba25-1444-45a0-9bd3-761e7dee1acd",
   "metadata": {},
   "outputs": [],
   "source": [
    "def getCols(tableName):\n",
    "    schema = wr.catalog.get_table_types(database='prod_da', table=tableName)\n",
    "    cols = [key if val!='timestamp' else f\"cast({key} as timestamp) as {key}\" for key, val in schema.items()]\n",
    "    return cols"
   ]
  },
  {
   "cell_type": "code",
   "execution_count": 51,
   "id": "476aed1a-22d9-437b-a679-394d54d74730",
   "metadata": {},
   "outputs": [],
   "source": [
    "def getTableData(subTableName):\n",
    "    cols = getCols(subTableName)\n",
    "    mainDf = wr.athena.read_sql_query(sql=f\"select {', '.join(cols)} from {subTableName}\", \n",
    "                              database=\"prod_da\", \n",
    "                              workgroup='data_analytics',)\n",
    "    return mainDf     "
   ]
  },
  {
   "cell_type": "code",
   "execution_count": 41,
   "id": "2224fc03-a077-4724-9324-7dfd54a07250",
   "metadata": {},
   "outputs": [],
   "source": [
    "def getSubData(mainDf, nonSubsDf): \n",
    "    mainDf['Days_ECO'] = pd.Series(mainDf['first_sub_date'] - mainDf['first_activity_date'],index = mainDf.index)\n",
    "    mainDf['Days_ECO'] = [c.days for c in mainDf['Days_ECO']]\n",
    "    mainDf = mainDf[mainDf['first_sub_date'].notna()]\n",
    "\n",
    "    # nonSubsDf = nonSubsDf.set_index('sam_id').reindex(columns=nonSubsDf.set_index('sam_id').columns.union(mainDf.set_index('sam_id').columns))\n",
    "    mainDf = mainDf.reindex(columns=nonSubsDf.columns)\n",
    "    nonSubsDf.set_index('sam_id').update(mainDf.set_index('sam_id'))\n",
    "\n",
    "    nonSubsDf.reset_index(inplace=True)\n",
    "    return nonSubsDf"
   ]
  },
  {
   "cell_type": "code",
   "execution_count": 42,
   "id": "bd3b7cba-ba1a-467b-bda4-5cabc21b463f",
   "metadata": {},
   "outputs": [],
   "source": [
    "def get_table(table_name, table_date, samIDsr = False, anchor_date = None, mainDf = None, nonSubsDf = None):  \n",
    "    cols1 = getCols(table_name)\n",
    "    if nonSubsDf is None: \n",
    "        nonSubsDf = wr.athena.read_sql_query(sql=f\"select {', '.join(cols1)} from {table_name}\", \n",
    "                              database=\"prod_da\", \n",
    "                              workgroup='data_analytics',)\n",
    "    \n",
    "    ffilter = pd.Series([firstCond or secondCond for firstCond, secondCond in \n",
    "                         zip(nonSubsDf['first_sub_date'] > pd.to_datetime(table_date),  \n",
    "                                    nonSubsDf['first_sub_date'].isna())], index = nonSubsDf.index)\n",
    "    \n",
    "    nonSubsDf = nonSubsDf[ffilter] \n",
    "\n",
    "    nonSubsDf = nonSubsDf[nonSubsDf['first_activity_date'] < pd.to_datetime(table_date)]\n",
    "    if anchor_date is not None: nonSubsDf = nonSubsDf[nonSubsDf['first_activity_date'] > pd.to_datetime(anchor_date)]\n",
    "    nonSubsDf['Days_ECO'] = pd.Series(pd.to_datetime(table_date) - nonSubsDf['first_activity_date'],index = nonSubsDf.index)\n",
    "    nonSubsDf['Days_ECO'] = [c.days for c in nonSubsDf['Days_ECO']]\n",
    "    \n",
    "    \n",
    "    ysr = nonSubsDf['first_sub_date'].notna().astype('int')\n",
    "    convSr = [c.days for c in (nonSubsDf['first_sub_date']- pd.to_datetime(table_date))]\n",
    "    convSr = pd.Series(convSr, index = nonSubsDf.index)\n",
    "    \n",
    "    if samIDsr: samids = nonSubsDf['sam_id']\n",
    "    \n",
    "    if mainDf is not None: nonSubsDf = getSubData(mainDf,nonSubsDf)\n",
    "    \n",
    "    nonSubsDf = nonSubsDf[list(combined_set)]\n",
    "    nonSubsDf[to_num] = nonSubsDf[to_num].astype(float)\n",
    "    \n",
    "    for col in to_num: \n",
    "        if nonSubsDf[col].min()<0:\n",
    "            nonSubsDf[col] = np.where(nonSubsDf[col]<0, 0 ,nonSubsDf[col])\n",
    "    \n",
    "    for col in to_num: nonSubsDf.loc[:,col] = np.clip(nonSubsDf[col],None,nonSubsDf[col].quantile(0.95))\n",
    "    for col in to_num: nonSubsDf.loc[:,col] = StandardScaler().fit_transform(nonSubsDf[[col]]) \n",
    "    for col in to_num: nonSubsDf.loc[:,col] = nonSubsDf[col].fillna(nonSubsDf[col].min()-1)\n",
    "    \n",
    "    \n",
    "    nonSubsDf['last_private'] = nonSubsDf['last_private'].apply(lambda x: int(x) if pd.notnull(x) else -1)\n",
    "    nonSubsDf['last_watchlist_private']  = nonSubsDf['last_watchlist_private'].apply(lambda x: int(x) if pd.notnull(x) else -1)\n",
    "    nonSubsDf['phone_filtered_id'] = nonSubsDf['phone_filtered_id'].notna().astype('int')\n",
    "    nonSubsDf['phone_watchlisted_id'] = nonSubsDf['phone_watchlisted_id'].notna().astype('int')\n",
    "    \n",
    "    \n",
    "    # for dummy variable : form another dummies\n",
    "    changeSubsDf = pd.get_dummies(nonSubsDf[to_Dummy], dtype=int)\n",
    "    nonSubsDf = nonSubsDf.drop(columns = to_Dummy)\n",
    "    nonSubsDf = nonSubsDf.join(changeSubsDf)\n",
    "    \n",
    "    for var_name in to_freq:\n",
    "        tmp_fe = nonSubsDf.groupby(var_name).size()/len(nonSubsDf)\n",
    "        nonSubsDf.loc[:,var_name + '_Freq'] = nonSubsDf[var_name].map(tmp_fe)\n",
    "        nonSubsDf.loc[:,var_name + '_Freq'] = StandardScaler().fit_transform(nonSubsDf[[var_name + '_Freq']])\n",
    "        nonSubsDf.loc[:,var_name + '_Freq'] = nonSubsDf[var_name + '_Freq'].fillna(nonSubsDf[var_name + '_Freq'].min()-1)\n",
    "    \n",
    "    nonSubsDf = nonSubsDf.drop(columns = to_freq)\n",
    "    nonSubsDf = nonSubsDf.astype(float)\n",
    "    \n",
    "    if samIDsr:\n",
    "        return nonSubsDf, ysr, convSr, samids\n",
    "    else:\n",
    "        return nonSubsDf, ysr, convSr"
   ]
  },
  {
   "cell_type": "code",
   "execution_count": 43,
   "id": "1dc970ca-dc73-4f00-b31a-e56a3d225e5c",
   "metadata": {},
   "outputs": [],
   "source": [
    "def trainModel(table_name, table_date, subDf, nonSubDf, s3_path):\n",
    "\n",
    "    nonSubsDf,ysr,convSr = get_table(table_name, table_date, mainDf = subDf, nonSubsDf= nonSubDf)\n",
    "    \n",
    "    print(\"--Table reading Done--\")\n",
    "    \n",
    "    rf = RandomForestClassifier(n_estimators = 1500, min_samples_leaf=500, n_jobs = -1, oob_score = True, random_state = 42, class_weight= \"balanced\")\n",
    "    rf.fit(nonSubsDf, ysr)\n",
    "    \n",
    "    print(\"--Model Fit Done--\")\n",
    "    \n",
    "    oob = rf.oob_score_\n",
    "    \n",
    "    buffer = io.BytesIO()\n",
    "    joblib.dump(rf, buffer)\n",
    "    buffer.seek(0)  \n",
    "\n",
    "    wr.s3.upload(local_file=buffer, path=s3_path)\n",
    "    print(\"--Model Save Done--\")\n"
   ]
  },
  {
   "cell_type": "code",
   "execution_count": 44,
   "id": "5b476877-4a72-4a9a-9d38-e427e5572f0c",
   "metadata": {},
   "outputs": [],
   "source": [
    "def getMetadataTable(tableName):\n",
    "    year = int(tableName.split('_')[-3])\n",
    "    month = int(tableName.split('_')[-2])\n",
    "    day = int(tableName.split('_')[-1])\n",
    "    \n",
    "    return date(year, month, day), str(year) + \"_\"+str(month) + \"_\"+str(day) "
   ]
  },
  {
   "cell_type": "code",
   "execution_count": null,
   "id": "bef8793e-1dcd-4dbd-8db3-2f6024793eb0",
   "metadata": {},
   "outputs": [],
   "source": [
    "import main as main"
   ]
  },
  {
   "cell_type": "code",
   "execution_count": 64,
   "id": "dcaf9125-e847-4343-aed1-c696d628fa3c",
   "metadata": {},
   "outputs": [],
   "source": [
    "tableList = ['ds060425_user_master_table_2024_03_31',\n",
    "'ds060425_user_master_table_2024_04_30',\n",
    "'ds060425_user_master_table_2024_05_31',\n",
    "'ds060425_user_master_table_2024_06_30',\n",
    "'ds060425_user_master_table_2024_07_31',\n",
    "'ds060425_user_master_table_2024_08_31',\n",
    "'ds060425_user_master_table_2024_09_30',\n",
    "'ds060425_user_master_table_2024_10_31',\n",
    "'ds060425_user_master_table_2024_11_30',\n",
    "'ds060425_user_master_table_2024_12_31',\n",
    "'ds060425_user_master_table_2025_01_31',\n",
    "'ds060425_user_master_table_2025_02_28']"
   ]
  },
  {
   "cell_type": "code",
   "execution_count": 45,
   "id": "5f3a7a15-e07f-4145-b191-8b3a397a0d86",
   "metadata": {},
   "outputs": [],
   "source": [
    "subTableName = 'ds_sub_minus1_user_master_table_2025_04_06'\n",
    "# nonSubTableName = 'ds060425_user_master_table_2025_03_31'\n"
   ]
  },
  {
   "cell_type": "code",
   "execution_count": 52,
   "id": "9f40b0cc-bb1a-4ced-92a5-76a3b6bfe798",
   "metadata": {},
   "outputs": [],
   "source": [
    "subDf = getTableData(subTableName)"
   ]
  },
  {
   "cell_type": "code",
   "execution_count": 53,
   "id": "5d65b4a7-31ec-4523-b4fa-d50b86d12bd1",
   "metadata": {},
   "outputs": [
    {
     "data": {
      "text/plain": [
       "(191195, 82)"
      ]
     },
     "execution_count": 53,
     "metadata": {},
     "output_type": "execute_result"
    }
   ],
   "source": [
    "subDf.shape"
   ]
  },
  {
   "cell_type": "code",
   "execution_count": null,
   "id": "7a080072-4a85-4ae4-816e-b25bfcf20ef6",
   "metadata": {},
   "outputs": [
    {
     "name": "stdout",
     "output_type": "stream",
     "text": [
      "(2868097, 82)\n"
     ]
    }
   ],
   "source": [
    "for nonSubTableName in tableList:\n",
    "    tableDate, ymd, modelPrefix = main.getMetadataTable(nonSubTableName)\n",
    "    s3_path = 's3://dl-prod-analytics/sandbox/research/manu-rathi/RF_270624/RF_MainDf_1500_500/'+ ymd + '_060425.joblib'\n",
    "    nonSubDf = main.getTableData(nonSubTableName)\n",
    "    print(nonSubDf.shape)\n",
    "    main.trainModel(nonSubTableName, tableDate, subDf, nonSubDf, s3_path)"
   ]
  },
  {
   "cell_type": "code",
   "execution_count": null,
   "id": "6c882467-8251-4364-b902-90e0f38dcbcb",
   "metadata": {},
   "outputs": [],
   "source": []
  },
  {
   "cell_type": "code",
   "execution_count": 54,
   "id": "8b70b5c0-5755-4530-bcf8-35dbc3070cea",
   "metadata": {},
   "outputs": [],
   "source": []
  },
  {
   "cell_type": "code",
   "execution_count": null,
   "id": "70d4e095-65af-4b8f-ab94-a07bb3f3d4a1",
   "metadata": {},
   "outputs": [],
   "source": []
  },
  {
   "cell_type": "code",
   "execution_count": null,
   "id": "b6c8fbb7-d120-4efb-b820-3d9a6afd7048",
   "metadata": {},
   "outputs": [],
   "source": []
  },
  {
   "cell_type": "code",
   "execution_count": null,
   "id": "ff730a3b-b671-44fb-9aec-1811339030cf",
   "metadata": {},
   "outputs": [],
   "source": []
  },
  {
   "cell_type": "code",
   "execution_count": null,
   "id": "0bfc12d4-a1fd-4edb-a13d-80d478959540",
   "metadata": {},
   "outputs": [],
   "source": [
    "def setSameCols(nonSubsDfCols, nonSubsDf_g):\n",
    "    colsToRemove = set(nonSubsDf_g.columns) - set(nonSubsDfCols)\n",
    "    colsToAdd = set(nonSubsDfCols) - set(nonSubsDf_g.columns)\n",
    "    \n",
    "    if(len(colsToRemove) !=0): nonSubsDf_g = nonSubsDf_g.drop(columns = list(colsToRemove))\n",
    "    if(len(colsToAdd) !=0): \n",
    "        for col in colsToAdd:\n",
    "            nonSubsDf_g.loc[:,col] = -1\n",
    "    return nonSubsDf_g "
   ]
  },
  {
   "cell_type": "code",
   "execution_count": null,
   "id": "58bb9cbd-137d-4320-ab99-d735c7dd2895",
   "metadata": {},
   "outputs": [],
   "source": [
    "def getFilteredDf(nonSubsDf,ysr):\n",
    "    \n",
    "    trn_df_1 = nonSubsDf[nonSubsDf['Days_ECO']>0]\n",
    "    trn_y_1 = ysr.loc[trn_df_1.index]\n",
    "    \n",
    "    trn_df_0 = nonSubsDf[nonSubsDf['Days_ECO']<0]\n",
    "    trn_y_0 = ysr.loc[trn_df_0.index]\n",
    "    \n",
    "    return trn_df_1,trn_y_1, trn_df_0, trn_y_0"
   ]
  },
  {
   "cell_type": "code",
   "execution_count": null,
   "id": "bdbaf235-72b7-42da-850c-4948b59b03be",
   "metadata": {},
   "outputs": [],
   "source": [
    "def getResultDf(rf, nonSubsDf_g,ysr_g, convSr_g, table_date_g):   \n",
    "    prob = rf.predict_proba(nonSubsDf_g)\n",
    "    tmpDf = pd.DataFrame(index =nonSubsDf_g.index ,columns = ['probability' ,'binary', 'decile','Days_ECO','Days_Conv'])\n",
    "    tmpDf['probability'] = prob[:,-1]\n",
    "    tmpDf['binary'] = ysr_g    \n",
    "    tmpDf['decile'] = [np.round(x) for x in tmpDf['probability']*10]\n",
    "    tmpDf['Days_ECO'] = nonSubsDf_g['Days_ECO']\n",
    "    tmpDf['Days_Conv'] = convSr_g\n",
    "    \n",
    "    grouped = tmpDf.groupby('decile')['binary']\n",
    "    resultDf = pd.DataFrame(grouped.sum()/ysr_g.sum()).rename(columns={'binary': str(table_date_g) + '_Base'})\n",
    "    resultDf[str(table_date_g) + '_Conv'] = grouped.sum()/grouped.count()\n",
    "    resultDf[str(table_date_g) + '_Count'] = grouped.count()\n",
    "    resultDf[str(table_date_g) + '_Subs'] = grouped.sum()\n",
    "    \n",
    "    resultDf[str(table_date_g) + '_EcoAvg'] = tmpDf.groupby('decile')['Days_ECO'].mean()\n",
    "    resultDf[str(table_date_g) + '_SubsEcoAvg'] = tmpDf[tmpDf['binary'] == 1].groupby('decile')['Days_ECO'].mean()\n",
    "    resultDf[str(table_date_g) + '_SubsConvAvg'] = tmpDf[tmpDf['binary'] == 1].groupby('decile')['Days_Conv'].mean()\n",
    "    \n",
    "    return resultDf"
   ]
  },
  {
   "cell_type": "code",
   "execution_count": null,
   "id": "ff4064d8-163d-497c-af6c-e558112e08f2",
   "metadata": {},
   "outputs": [],
   "source": [
    "def getResultSamDf(rf, nonSubsDf_g,ysr_g, convSr_g, samid_g, tableName, subs= True):  \n",
    "    if subs: \n",
    "        subIndex = ysr_g[ysr_g == 1].index\n",
    "    else: \n",
    "        subIndex = ysr_g.index\n",
    "    prob = rf.predict_proba(nonSubsDf_g.loc[subIndex])\n",
    "    tmpDf = pd.DataFrame(index = subIndex)\n",
    "    tmpDf['sam'] = samid_g.loc[subIndex]\n",
    "    tmpDf['probability_'+ tableName] = prob[:,-1]\n",
    "    tmpDf['conv_' + tableName] = convSr_g.loc[subIndex]\n",
    "    tmpDf['Eco_' + tableName] = nonSubsDf_g.loc[subIndex]['Days_ECO']\n",
    "    tmpDf['Sub_' + tableName] = ysr_g.loc[subIndex]\n",
    "    tmpDf.set_index('sam', inplace = True)\n",
    "    return tmpDf"
   ]
  },
  {
   "cell_type": "code",
   "execution_count": null,
   "id": "4881a777-4b10-4eee-97e2-2b418ad61385",
   "metadata": {},
   "outputs": [],
   "source": [
    "#ENUMs"
   ]
  },
  {
   "cell_type": "code",
   "execution_count": 26,
   "id": "d64aa19f-be27-4f07-a58f-b22ebebc3c73",
   "metadata": {},
   "outputs": [],
   "source": [
    "to_Bin = ['last_private', 'last_watchlist_private']\n",
    "to_Prsnt = ['phone_filtered_id', 'phone_watchlisted_id']\n",
    "\n",
    "to_Dummy = ['last_type',\n",
    "'last_device_type',\n",
    "'primary_banner_view_first_touch_device_type',\n",
    "'first_device_type',\n",
    "'primary_banner_view_last_touch_device_type',\n",
    "'first_type']\n",
    "\n",
    "to_freq = ['last_accessed_from',\n",
    "'secondary_banner_view_last_touch_banner_title',\n",
    "'primary_banner_view_last_touch_banner_title',  \n",
    "'primary_banner_view_first_touch_banner_title',\n",
    "'first_accessed_from',             \n",
    "'secondary_banner_view_first_touch_banner_title',             \n",
    "'last_scid',\n",
    "'first_scid', \n",
    "'last_watchlist_scid',\n",
    "'manager_views_last_touch_display_name']\n",
    "\n",
    "to_num = ['Days_ECO','count_sc_views_fee_model_based',\n",
    " 'count_sc_views_fee',\n",
    " 'last_hours_difference',\n",
    " 'stocks_invested_amount',\n",
    " 'smallcap_aum',\n",
    " 'etf_invested_amount',\n",
    " 'midcap_aum',\n",
    " 'primary_banner_view_last_touch_hours_taken_from_plift',\n",
    " 'total_sid_count',\n",
    " 'count_sc_views',\n",
    " 'count_watchlisted_fee',\n",
    " 'total_sc_buy_invested_amount',\n",
    " 'count_manager_views',\n",
    " 'count_sc_views_free',\n",
    " 'count_sc_views_fee_sector_trackers',\n",
    " 'manager_views_last_touch_hours_taken_from_plift',\n",
    " 'count_sc_views_free_etf',\n",
    " 'count_primary_banner_views_category_track',\n",
    " 'count_primary_banner_views_category_others',\n",
    " 'count_primary_banner_views_category_lamf',\n",
    " 'count_sc_views_accessed_search',\n",
    " 'secondary_banner_view_last_touch_hours_taken_from_plift',\n",
    " 'count_primary_banner_views_android',\n",
    " 'count_secondary_banner_views_category_lamf',\n",
    " 'count_primary_banner_views',\n",
    " 'count_primary_banner_views_category_brand_campaign_offer',\n",
    " 'count_primary_banner_views_category_buy_or_fp',\n",
    " 'last_filtered_hours_difference',\n",
    " 'count_manager_views_name_others',\n",
    " 'count_sc_views_android',\n",
    " 'count_primary_banner_views_ios',\n",
    " 'count_sc_views_accessed_explore',\n",
    " 'count_primary_banner_views_category_subs',\n",
    " 'last_watchlist_hours_difference',\n",
    " 'count_primary_banner_views_category_brand_campaign',\n",
    " 'count_manager_views_accessed_smallcase_profile',\n",
    " 'count_sc_views_accessed_home',\n",
    " 'count_sc_views_free_model_based',\n",
    " 'count_primary_banner_views_category_app_referral',\n",
    " 'count_filtered',\n",
    " 'first_filtered_hours_difference',\n",
    " 'count_primary_banner_views_web',\n",
    " 'first_hours_difference',\n",
    " 'count_sc_views_web',\n",
    " 'count_sc_views_accessed_watchlist',\n",
    " 'count_sc_views_free_sector_trackers',\n",
    " 'first_watchlist_hours_difference',\n",
    " 'count_manager_views_android',\n",
    " 'count_sc_views_free_awi',\n",
    " 'count_watchlisted',\n",
    " 'count_secondary_banner_views',\n",
    " 'sc_created_last_touch_hours_taken_from_plift']"
   ]
  },
  {
   "cell_type": "code",
   "execution_count": 59,
   "id": "d3fbb9ac-5d42-460b-bee3-8b72a230738e",
   "metadata": {},
   "outputs": [],
   "source": [
    "set1 = set(to_Dummy)\n",
    "set2 = set(to_freq)\n",
    "set3 = set(to_Bin)\n",
    "set4 = set(to_Prsnt)\n",
    "# set5 = set(to_Sub)\n",
    "set6 = set(to_num)\n",
    "\n",
    "# Combine the sets using union\n",
    "combined_set = set1 | set2 | set3 | set4 | set6"
   ]
  },
  {
   "cell_type": "code",
   "execution_count": null,
   "id": "3edd72e6-d492-4122-9f07-439b4fa96043",
   "metadata": {},
   "outputs": [],
   "source": []
  }
 ],
 "metadata": {
  "kernelspec": {
   "display_name": "Python 3 (ipykernel)",
   "language": "python",
   "name": "python3"
  },
  "language_info": {
   "codemirror_mode": {
    "name": "ipython",
    "version": 3
   },
   "file_extension": ".py",
   "mimetype": "text/x-python",
   "name": "python",
   "nbconvert_exporter": "python",
   "pygments_lexer": "ipython3",
   "version": "3.11.11"
  }
 },
 "nbformat": 4,
 "nbformat_minor": 5
}
