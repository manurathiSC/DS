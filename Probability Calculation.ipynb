{
 "cells": [
  {
   "cell_type": "code",
   "execution_count": 1,
   "id": "68becfcd-bbf2-4ca9-9848-8bfc7659f820",
   "metadata": {},
   "outputs": [],
   "source": [
    "import pandas as pd\n",
    "from datetime import date\n",
    "import io\n",
    "import boto3\n",
    "import joblib\n",
    "import numpy as np"
   ]
  },
  {
   "cell_type": "code",
   "execution_count": 2,
   "id": "ba078aba-5ac8-4b1a-a620-2da9d8af117b",
   "metadata": {},
   "outputs": [
    {
     "name": "stdout",
     "output_type": "stream",
     "text": [
      "Collecting awswrangler\n",
      "  Using cached awswrangler-3.11.0-py3-none-any.whl.metadata (17 kB)\n",
      "Requirement already satisfied: boto3<2.0.0,>=1.20.32 in /opt/conda/lib/python3.11/site-packages (from awswrangler) (1.36.23)\n",
      "Requirement already satisfied: botocore<2.0.0,>=1.23.32 in /opt/conda/lib/python3.11/site-packages (from awswrangler) (1.36.23)\n",
      "Requirement already satisfied: numpy<3.0,>=1.26 in /opt/conda/lib/python3.11/site-packages (from awswrangler) (1.26.4)\n",
      "Requirement already satisfied: packaging<25.0,>=21.1 in /opt/conda/lib/python3.11/site-packages (from awswrangler) (24.2)\n",
      "Requirement already satisfied: pandas<3.0.0,>=1.2.0 in /opt/conda/lib/python3.11/site-packages (from awswrangler) (2.2.3)\n",
      "Requirement already satisfied: pyarrow<19.0.0,>=8.0.0 in /opt/conda/lib/python3.11/site-packages (from awswrangler) (17.0.0)\n",
      "Requirement already satisfied: typing-extensions<5.0.0,>=4.4.0 in /opt/conda/lib/python3.11/site-packages (from awswrangler) (4.12.2)\n",
      "Requirement already satisfied: jmespath<2.0.0,>=0.7.1 in /opt/conda/lib/python3.11/site-packages (from boto3<2.0.0,>=1.20.32->awswrangler) (1.0.1)\n",
      "Requirement already satisfied: s3transfer<0.12.0,>=0.11.0 in /opt/conda/lib/python3.11/site-packages (from boto3<2.0.0,>=1.20.32->awswrangler) (0.11.3)\n",
      "Requirement already satisfied: python-dateutil<3.0.0,>=2.1 in /opt/conda/lib/python3.11/site-packages (from botocore<2.0.0,>=1.23.32->awswrangler) (2.9.0.post0)\n",
      "Requirement already satisfied: urllib3!=2.2.0,<3,>=1.25.4 in /opt/conda/lib/python3.11/site-packages (from botocore<2.0.0,>=1.23.32->awswrangler) (2.3.0)\n",
      "Requirement already satisfied: pytz>=2020.1 in /opt/conda/lib/python3.11/site-packages (from pandas<3.0.0,>=1.2.0->awswrangler) (2024.1)\n",
      "Requirement already satisfied: tzdata>=2022.7 in /opt/conda/lib/python3.11/site-packages (from pandas<3.0.0,>=1.2.0->awswrangler) (2025.1)\n",
      "Requirement already satisfied: six>=1.5 in /opt/conda/lib/python3.11/site-packages (from python-dateutil<3.0.0,>=2.1->botocore<2.0.0,>=1.23.32->awswrangler) (1.17.0)\n",
      "Using cached awswrangler-3.11.0-py3-none-any.whl (379 kB)\n",
      "Installing collected packages: awswrangler\n",
      "Successfully installed awswrangler-3.11.0\n"
     ]
    }
   ],
   "source": [
    "!pip install awswrangler"
   ]
  },
  {
   "cell_type": "code",
   "execution_count": 4,
   "id": "f27e555c-7323-44c2-a274-abbeebd274bd",
   "metadata": {},
   "outputs": [],
   "source": [
    "# import main as main\n",
    "# import importlib\n",
    "# importlib.reload(main)\n",
    "import main as main"
   ]
  },
  {
   "cell_type": "code",
   "execution_count": null,
   "id": "7aea3d3e-68d3-4b55-8e6c-ffee9f631fe6",
   "metadata": {},
   "outputs": [],
   "source": []
  },
  {
   "cell_type": "code",
   "execution_count": 5,
   "id": "6ea50aae-52e2-436b-9196-53f8088aafef",
   "metadata": {},
   "outputs": [],
   "source": [
    "# table versioning as well as model versioning"
   ]
  },
  {
   "cell_type": "code",
   "execution_count": 6,
   "id": "ecff6204-51e4-46a9-86cb-f9bbd1d21947",
   "metadata": {},
   "outputs": [],
   "source": [
    "tableList1 = ['ds_user_master_table_2023_02_28',\n",
    "'ds_user_master_table_2023_03_31',\n",
    "'ds_user_master_table_2023_04_30',\n",
    "'ds_user_master_table_2023_05_31',\n",
    "'ds_user_master_table_2023_06_30',\n",
    "'ds_user_master_table_2023_07_31']"
   ]
  },
  {
   "cell_type": "code",
   "execution_count": 7,
   "id": "35f6ad69-529e-4985-9f7d-10e5b2033e22",
   "metadata": {},
   "outputs": [],
   "source": [
    "tableList2 =['ds191124_user_master_table_2023_08_31',\n",
    "'ds191124_user_master_table_2023_09_30',\n",
    "'ds191124_user_master_table_2023_10_31',\n",
    "'ds191124_user_master_table_2023_11_30']"
   ]
  },
  {
   "cell_type": "code",
   "execution_count": 8,
   "id": "37fb1602-1704-4df3-8382-e141f0fb887f",
   "metadata": {},
   "outputs": [],
   "source": [
    "tableList3 = ['ds150125_user_master_table_2023_12_31',\n",
    "'ds150125_user_master_table_2024_01_31',\n",
    "'ds150125_user_master_table_2024_02_29']"
   ]
  },
  {
   "cell_type": "code",
   "execution_count": 9,
   "id": "bca64aff-3899-428a-b094-59cacb07dda9",
   "metadata": {},
   "outputs": [],
   "source": [
    "tableList = ['ds060425_user_master_table_2024_03_31',\n",
    "'ds060425_user_master_table_2024_04_30',\n",
    "'ds060425_user_master_table_2024_05_31',\n",
    "'ds060425_user_master_table_2024_06_30',\n",
    "'ds060425_user_master_table_2024_07_31',\n",
    "'ds060425_user_master_table_2024_08_31',\n",
    "'ds060425_user_master_table_2024_09_30',\n",
    "'ds060425_user_master_table_2024_10_31',\n",
    "'ds060425_user_master_table_2024_11_30',\n",
    "'ds060425_user_master_table_2024_12_31',\n",
    "'ds060425_user_master_table_2025_01_31',\n",
    "'ds060425_user_master_table_2025_02_28',\n",
    "'ds060425_user_master_table_2025_03_31']"
   ]
  },
  {
   "cell_type": "code",
   "execution_count": 10,
   "id": "0dd3c4c2-388e-4d0d-a1ad-0d5284bccda2",
   "metadata": {},
   "outputs": [],
   "source": [
    "allTableDf = pd.DataFrame(columns = ['Table Name'])\n",
    "allTableDf['Table Name']  = (tableList1) + (tableList2)+ (tableList3)+(tableList)"
   ]
  },
  {
   "cell_type": "code",
   "execution_count": 11,
   "id": "98f8fe94-a2e9-4ffc-9104-6dabaf620643",
   "metadata": {},
   "outputs": [],
   "source": [
    "allTableDf[['Table Date', 'YMD', 'Prefix']] = pd.DataFrame(list(allTableDf['Table Name'].map(main.getMetadataTable)),\n",
    "             columns=['Table Date', 'YMD', 'Prefix'])"
   ]
  },
  {
   "cell_type": "code",
   "execution_count": 12,
   "id": "89168520-e1c7-4d36-95a8-ae05af2655c8",
   "metadata": {},
   "outputs": [],
   "source": [
    "s3Path = 's3://dl-prod-analytics/sandbox/research/manu-rathi/RF_270624/RF_MainDf_1500_500/'"
   ]
  },
  {
   "cell_type": "code",
   "execution_count": 13,
   "id": "d9a9f8f2-313b-4c8a-af52-021d13ad9b7c",
   "metadata": {
    "scrolled": true
   },
   "outputs": [],
   "source": [
    "allTableDf['Model Path'] = [s3Path + x[0] + '_' + x[1] + '.joblib' if x[1] else s3Path + x[0] + '.joblib' for x in allTableDf[['YMD' , 'Prefix' ]].values]"
   ]
  },
  {
   "cell_type": "code",
   "execution_count": 25,
   "id": "40a007e5-604c-427b-8de6-1c4a9b4a9ae3",
   "metadata": {},
   "outputs": [],
   "source": [
    "# def getProbTable(s3Path, nonSubTableName, nonSubTableDate, sliceDf):  \n",
    "#     nonSubDf = main.getTableData(nonSubTableName)\n",
    "#     print('Table Reading Done')\n",
    "#     allResultDf = pd.DataFrame()\n",
    "#     for i in sliceDf.index:\n",
    "#         ymd = sliceDf.loc[i,'YMD']\n",
    "#         prefix = sliceDf.loc[i,'Prefix']\n",
    "#         tableDate = sliceDf.loc[i,'Table Date']\n",
    "#         modelSuffix = ymd + '_' + prefix + '.joblib' if prefix else ymd + '.joblib'\n",
    "#         modelPath = s3Path + modelSuffix\n",
    "#         model = getModel(modelPath)\n",
    "#         print('Model Reading Done')\n",
    "#         resultDf = getProbScore(model,nonSubTableName, nonSubTableDate,tableDate ,nonSubDf)\n",
    "#         allResultDf = pd.concat([allResultDf, resultDf], axis = 1) \n",
    "#         print(ymd)\n",
    "    # return allResultDf"
   ]
  },
  {
   "cell_type": "code",
   "execution_count": 14,
   "id": "5eebb304-500a-4593-a5ba-6391a7fb2c16",
   "metadata": {},
   "outputs": [
    {
     "data": {
      "text/html": [
       "<div>\n",
       "<style scoped>\n",
       "    .dataframe tbody tr th:only-of-type {\n",
       "        vertical-align: middle;\n",
       "    }\n",
       "\n",
       "    .dataframe tbody tr th {\n",
       "        vertical-align: top;\n",
       "    }\n",
       "\n",
       "    .dataframe thead th {\n",
       "        text-align: right;\n",
       "    }\n",
       "</style>\n",
       "<table border=\"1\" class=\"dataframe\">\n",
       "  <thead>\n",
       "    <tr style=\"text-align: right;\">\n",
       "      <th></th>\n",
       "      <th>Table Name</th>\n",
       "      <th>Table Date</th>\n",
       "      <th>YMD</th>\n",
       "      <th>Prefix</th>\n",
       "      <th>Model Path</th>\n",
       "    </tr>\n",
       "  </thead>\n",
       "  <tbody>\n",
       "    <tr>\n",
       "      <th>0</th>\n",
       "      <td>ds_user_master_table_2023_02_28</td>\n",
       "      <td>2023-02-28</td>\n",
       "      <td>2023_2_28</td>\n",
       "      <td></td>\n",
       "      <td>s3://dl-prod-analytics/sandbox/research/manu-r...</td>\n",
       "    </tr>\n",
       "    <tr>\n",
       "      <th>1</th>\n",
       "      <td>ds_user_master_table_2023_03_31</td>\n",
       "      <td>2023-03-31</td>\n",
       "      <td>2023_3_31</td>\n",
       "      <td></td>\n",
       "      <td>s3://dl-prod-analytics/sandbox/research/manu-r...</td>\n",
       "    </tr>\n",
       "    <tr>\n",
       "      <th>2</th>\n",
       "      <td>ds_user_master_table_2023_04_30</td>\n",
       "      <td>2023-04-30</td>\n",
       "      <td>2023_4_30</td>\n",
       "      <td></td>\n",
       "      <td>s3://dl-prod-analytics/sandbox/research/manu-r...</td>\n",
       "    </tr>\n",
       "    <tr>\n",
       "      <th>3</th>\n",
       "      <td>ds_user_master_table_2023_05_31</td>\n",
       "      <td>2023-05-31</td>\n",
       "      <td>2023_5_31</td>\n",
       "      <td></td>\n",
       "      <td>s3://dl-prod-analytics/sandbox/research/manu-r...</td>\n",
       "    </tr>\n",
       "    <tr>\n",
       "      <th>4</th>\n",
       "      <td>ds_user_master_table_2023_06_30</td>\n",
       "      <td>2023-06-30</td>\n",
       "      <td>2023_6_30</td>\n",
       "      <td></td>\n",
       "      <td>s3://dl-prod-analytics/sandbox/research/manu-r...</td>\n",
       "    </tr>\n",
       "    <tr>\n",
       "      <th>5</th>\n",
       "      <td>ds_user_master_table_2023_07_31</td>\n",
       "      <td>2023-07-31</td>\n",
       "      <td>2023_7_31</td>\n",
       "      <td></td>\n",
       "      <td>s3://dl-prod-analytics/sandbox/research/manu-r...</td>\n",
       "    </tr>\n",
       "    <tr>\n",
       "      <th>6</th>\n",
       "      <td>ds191124_user_master_table_2023_08_31</td>\n",
       "      <td>2023-08-31</td>\n",
       "      <td>2023_8_31</td>\n",
       "      <td>191124</td>\n",
       "      <td>s3://dl-prod-analytics/sandbox/research/manu-r...</td>\n",
       "    </tr>\n",
       "    <tr>\n",
       "      <th>7</th>\n",
       "      <td>ds191124_user_master_table_2023_09_30</td>\n",
       "      <td>2023-09-30</td>\n",
       "      <td>2023_9_30</td>\n",
       "      <td>191124</td>\n",
       "      <td>s3://dl-prod-analytics/sandbox/research/manu-r...</td>\n",
       "    </tr>\n",
       "    <tr>\n",
       "      <th>8</th>\n",
       "      <td>ds191124_user_master_table_2023_10_31</td>\n",
       "      <td>2023-10-31</td>\n",
       "      <td>2023_10_31</td>\n",
       "      <td>191124</td>\n",
       "      <td>s3://dl-prod-analytics/sandbox/research/manu-r...</td>\n",
       "    </tr>\n",
       "    <tr>\n",
       "      <th>9</th>\n",
       "      <td>ds191124_user_master_table_2023_11_30</td>\n",
       "      <td>2023-11-30</td>\n",
       "      <td>2023_11_30</td>\n",
       "      <td>191124</td>\n",
       "      <td>s3://dl-prod-analytics/sandbox/research/manu-r...</td>\n",
       "    </tr>\n",
       "    <tr>\n",
       "      <th>10</th>\n",
       "      <td>ds150125_user_master_table_2023_12_31</td>\n",
       "      <td>2023-12-31</td>\n",
       "      <td>2023_12_31</td>\n",
       "      <td>150125</td>\n",
       "      <td>s3://dl-prod-analytics/sandbox/research/manu-r...</td>\n",
       "    </tr>\n",
       "    <tr>\n",
       "      <th>11</th>\n",
       "      <td>ds150125_user_master_table_2024_01_31</td>\n",
       "      <td>2024-01-31</td>\n",
       "      <td>2024_1_31</td>\n",
       "      <td>150125</td>\n",
       "      <td>s3://dl-prod-analytics/sandbox/research/manu-r...</td>\n",
       "    </tr>\n",
       "    <tr>\n",
       "      <th>12</th>\n",
       "      <td>ds150125_user_master_table_2024_02_29</td>\n",
       "      <td>2024-02-29</td>\n",
       "      <td>2024_2_29</td>\n",
       "      <td>150125</td>\n",
       "      <td>s3://dl-prod-analytics/sandbox/research/manu-r...</td>\n",
       "    </tr>\n",
       "    <tr>\n",
       "      <th>13</th>\n",
       "      <td>ds060425_user_master_table_2024_03_31</td>\n",
       "      <td>2024-03-31</td>\n",
       "      <td>2024_3_31</td>\n",
       "      <td>060425</td>\n",
       "      <td>s3://dl-prod-analytics/sandbox/research/manu-r...</td>\n",
       "    </tr>\n",
       "    <tr>\n",
       "      <th>14</th>\n",
       "      <td>ds060425_user_master_table_2024_04_30</td>\n",
       "      <td>2024-04-30</td>\n",
       "      <td>2024_4_30</td>\n",
       "      <td>060425</td>\n",
       "      <td>s3://dl-prod-analytics/sandbox/research/manu-r...</td>\n",
       "    </tr>\n",
       "    <tr>\n",
       "      <th>15</th>\n",
       "      <td>ds060425_user_master_table_2024_05_31</td>\n",
       "      <td>2024-05-31</td>\n",
       "      <td>2024_5_31</td>\n",
       "      <td>060425</td>\n",
       "      <td>s3://dl-prod-analytics/sandbox/research/manu-r...</td>\n",
       "    </tr>\n",
       "    <tr>\n",
       "      <th>16</th>\n",
       "      <td>ds060425_user_master_table_2024_06_30</td>\n",
       "      <td>2024-06-30</td>\n",
       "      <td>2024_6_30</td>\n",
       "      <td>060425</td>\n",
       "      <td>s3://dl-prod-analytics/sandbox/research/manu-r...</td>\n",
       "    </tr>\n",
       "    <tr>\n",
       "      <th>17</th>\n",
       "      <td>ds060425_user_master_table_2024_07_31</td>\n",
       "      <td>2024-07-31</td>\n",
       "      <td>2024_7_31</td>\n",
       "      <td>060425</td>\n",
       "      <td>s3://dl-prod-analytics/sandbox/research/manu-r...</td>\n",
       "    </tr>\n",
       "    <tr>\n",
       "      <th>18</th>\n",
       "      <td>ds060425_user_master_table_2024_08_31</td>\n",
       "      <td>2024-08-31</td>\n",
       "      <td>2024_8_31</td>\n",
       "      <td>060425</td>\n",
       "      <td>s3://dl-prod-analytics/sandbox/research/manu-r...</td>\n",
       "    </tr>\n",
       "    <tr>\n",
       "      <th>19</th>\n",
       "      <td>ds060425_user_master_table_2024_09_30</td>\n",
       "      <td>2024-09-30</td>\n",
       "      <td>2024_9_30</td>\n",
       "      <td>060425</td>\n",
       "      <td>s3://dl-prod-analytics/sandbox/research/manu-r...</td>\n",
       "    </tr>\n",
       "    <tr>\n",
       "      <th>20</th>\n",
       "      <td>ds060425_user_master_table_2024_10_31</td>\n",
       "      <td>2024-10-31</td>\n",
       "      <td>2024_10_31</td>\n",
       "      <td>060425</td>\n",
       "      <td>s3://dl-prod-analytics/sandbox/research/manu-r...</td>\n",
       "    </tr>\n",
       "    <tr>\n",
       "      <th>21</th>\n",
       "      <td>ds060425_user_master_table_2024_11_30</td>\n",
       "      <td>2024-11-30</td>\n",
       "      <td>2024_11_30</td>\n",
       "      <td>060425</td>\n",
       "      <td>s3://dl-prod-analytics/sandbox/research/manu-r...</td>\n",
       "    </tr>\n",
       "    <tr>\n",
       "      <th>22</th>\n",
       "      <td>ds060425_user_master_table_2024_12_31</td>\n",
       "      <td>2024-12-31</td>\n",
       "      <td>2024_12_31</td>\n",
       "      <td>060425</td>\n",
       "      <td>s3://dl-prod-analytics/sandbox/research/manu-r...</td>\n",
       "    </tr>\n",
       "    <tr>\n",
       "      <th>23</th>\n",
       "      <td>ds060425_user_master_table_2025_01_31</td>\n",
       "      <td>2025-01-31</td>\n",
       "      <td>2025_1_31</td>\n",
       "      <td>060425</td>\n",
       "      <td>s3://dl-prod-analytics/sandbox/research/manu-r...</td>\n",
       "    </tr>\n",
       "    <tr>\n",
       "      <th>24</th>\n",
       "      <td>ds060425_user_master_table_2025_02_28</td>\n",
       "      <td>2025-02-28</td>\n",
       "      <td>2025_2_28</td>\n",
       "      <td>060425</td>\n",
       "      <td>s3://dl-prod-analytics/sandbox/research/manu-r...</td>\n",
       "    </tr>\n",
       "    <tr>\n",
       "      <th>25</th>\n",
       "      <td>ds060425_user_master_table_2025_03_31</td>\n",
       "      <td>2025-03-31</td>\n",
       "      <td>2025_3_31</td>\n",
       "      <td>060425</td>\n",
       "      <td>s3://dl-prod-analytics/sandbox/research/manu-r...</td>\n",
       "    </tr>\n",
       "  </tbody>\n",
       "</table>\n",
       "</div>"
      ],
      "text/plain": [
       "                               Table Name  Table Date         YMD  Prefix  \\\n",
       "0         ds_user_master_table_2023_02_28  2023-02-28   2023_2_28           \n",
       "1         ds_user_master_table_2023_03_31  2023-03-31   2023_3_31           \n",
       "2         ds_user_master_table_2023_04_30  2023-04-30   2023_4_30           \n",
       "3         ds_user_master_table_2023_05_31  2023-05-31   2023_5_31           \n",
       "4         ds_user_master_table_2023_06_30  2023-06-30   2023_6_30           \n",
       "5         ds_user_master_table_2023_07_31  2023-07-31   2023_7_31           \n",
       "6   ds191124_user_master_table_2023_08_31  2023-08-31   2023_8_31  191124   \n",
       "7   ds191124_user_master_table_2023_09_30  2023-09-30   2023_9_30  191124   \n",
       "8   ds191124_user_master_table_2023_10_31  2023-10-31  2023_10_31  191124   \n",
       "9   ds191124_user_master_table_2023_11_30  2023-11-30  2023_11_30  191124   \n",
       "10  ds150125_user_master_table_2023_12_31  2023-12-31  2023_12_31  150125   \n",
       "11  ds150125_user_master_table_2024_01_31  2024-01-31   2024_1_31  150125   \n",
       "12  ds150125_user_master_table_2024_02_29  2024-02-29   2024_2_29  150125   \n",
       "13  ds060425_user_master_table_2024_03_31  2024-03-31   2024_3_31  060425   \n",
       "14  ds060425_user_master_table_2024_04_30  2024-04-30   2024_4_30  060425   \n",
       "15  ds060425_user_master_table_2024_05_31  2024-05-31   2024_5_31  060425   \n",
       "16  ds060425_user_master_table_2024_06_30  2024-06-30   2024_6_30  060425   \n",
       "17  ds060425_user_master_table_2024_07_31  2024-07-31   2024_7_31  060425   \n",
       "18  ds060425_user_master_table_2024_08_31  2024-08-31   2024_8_31  060425   \n",
       "19  ds060425_user_master_table_2024_09_30  2024-09-30   2024_9_30  060425   \n",
       "20  ds060425_user_master_table_2024_10_31  2024-10-31  2024_10_31  060425   \n",
       "21  ds060425_user_master_table_2024_11_30  2024-11-30  2024_11_30  060425   \n",
       "22  ds060425_user_master_table_2024_12_31  2024-12-31  2024_12_31  060425   \n",
       "23  ds060425_user_master_table_2025_01_31  2025-01-31   2025_1_31  060425   \n",
       "24  ds060425_user_master_table_2025_02_28  2025-02-28   2025_2_28  060425   \n",
       "25  ds060425_user_master_table_2025_03_31  2025-03-31   2025_3_31  060425   \n",
       "\n",
       "                                           Model Path  \n",
       "0   s3://dl-prod-analytics/sandbox/research/manu-r...  \n",
       "1   s3://dl-prod-analytics/sandbox/research/manu-r...  \n",
       "2   s3://dl-prod-analytics/sandbox/research/manu-r...  \n",
       "3   s3://dl-prod-analytics/sandbox/research/manu-r...  \n",
       "4   s3://dl-prod-analytics/sandbox/research/manu-r...  \n",
       "5   s3://dl-prod-analytics/sandbox/research/manu-r...  \n",
       "6   s3://dl-prod-analytics/sandbox/research/manu-r...  \n",
       "7   s3://dl-prod-analytics/sandbox/research/manu-r...  \n",
       "8   s3://dl-prod-analytics/sandbox/research/manu-r...  \n",
       "9   s3://dl-prod-analytics/sandbox/research/manu-r...  \n",
       "10  s3://dl-prod-analytics/sandbox/research/manu-r...  \n",
       "11  s3://dl-prod-analytics/sandbox/research/manu-r...  \n",
       "12  s3://dl-prod-analytics/sandbox/research/manu-r...  \n",
       "13  s3://dl-prod-analytics/sandbox/research/manu-r...  \n",
       "14  s3://dl-prod-analytics/sandbox/research/manu-r...  \n",
       "15  s3://dl-prod-analytics/sandbox/research/manu-r...  \n",
       "16  s3://dl-prod-analytics/sandbox/research/manu-r...  \n",
       "17  s3://dl-prod-analytics/sandbox/research/manu-r...  \n",
       "18  s3://dl-prod-analytics/sandbox/research/manu-r...  \n",
       "19  s3://dl-prod-analytics/sandbox/research/manu-r...  \n",
       "20  s3://dl-prod-analytics/sandbox/research/manu-r...  \n",
       "21  s3://dl-prod-analytics/sandbox/research/manu-r...  \n",
       "22  s3://dl-prod-analytics/sandbox/research/manu-r...  \n",
       "23  s3://dl-prod-analytics/sandbox/research/manu-r...  \n",
       "24  s3://dl-prod-analytics/sandbox/research/manu-r...  \n",
       "25  s3://dl-prod-analytics/sandbox/research/manu-r...  "
      ]
     },
     "execution_count": 14,
     "metadata": {},
     "output_type": "execute_result"
    }
   ],
   "source": [
    "allTableDf"
   ]
  },
  {
   "cell_type": "code",
   "execution_count": 19,
   "id": "f44d2e76-461a-4852-a0c0-94d78e865855",
   "metadata": {},
   "outputs": [
    {
     "data": {
      "text/plain": [
       "'2023_2_28'"
      ]
     },
     "execution_count": 19,
     "metadata": {},
     "output_type": "execute_result"
    }
   ],
   "source": [
    "allTableDf['YMD'][0]"
   ]
  },
  {
   "cell_type": "code",
   "execution_count": 21,
   "id": "e968c803-860d-4181-93f3-53140cfaa619",
   "metadata": {},
   "outputs": [],
   "source": [
    "#cHANGE THE weekly TABLE\n",
    "weeklyTable = {'Table Name' : 'ds060425_user_master_table_2025_03_31', 'Table Date': date(2025, 3, 31), 'YMD': '2025_3_31'}"
   ]
  },
  {
   "cell_type": "code",
   "execution_count": 22,
   "id": "78b1bd75-83a2-49e9-8034-f4c49cdecc49",
   "metadata": {},
   "outputs": [],
   "source": [
    "nonSubTableName, nonSubTableDate, nonSubTableYMD = weeklyTable['Table Name'], weeklyTable['Table Date'], weeklyTable['YMD']"
   ]
  },
  {
   "cell_type": "code",
   "execution_count": 23,
   "id": "e1107306-bdb3-43cd-bcc0-baad9675493f",
   "metadata": {},
   "outputs": [],
   "source": [
    "sliceDf = allTableDf[allTableDf['Table Date'] < nonSubTableDate]\n",
    "modelDict = dict(zip(sliceDf['Table Date'], sliceDf['Model Path']))"
   ]
  },
  {
   "cell_type": "code",
   "execution_count": null,
   "id": "df3f5d71-9fcf-456f-ba0b-584914b85057",
   "metadata": {},
   "outputs": [],
   "source": [
    "#Main function to cal prob \n",
    "allResultDf = main.getProbTable(s3Path, nonSubTableName, nonSubTableDate, modelDict)"
   ]
  },
  {
   "cell_type": "code",
   "execution_count": null,
   "id": "2fbfb324-9d44-4156-adfd-b7c40a24bfcc",
   "metadata": {},
   "outputs": [],
   "source": [
    "\n",
    "# data transform and Stroing \n",
    "outputs3csvPath  = 's3://dl-prod-analytics/sandbox/research/manu-rathi/RF_270624/Results_MainDf_1500_500_ALL_U/' + nonSubTableYMD + '_060425.csv'\n",
    "main.storeOutput(allResultDf,outputs3csvPath)\n",
    "probDf, subDf = main.getProbSubDf(allResultDf)\n",
    "tmpDf = main.getResultTPTdf(probDf,subDf, nonSubTableDate , \"Avg\", True)\n",
    "avgs3csvPath  = 's3://dl-prod-analytics/sandbox/research/manu-rathi/RF_270624/Results_MainDf_1500_500_ALL_Decile/' + nonSubTableYMD + '_060425_NotTrimmed.csv'\n",
    "main.storeOutput(tmpDf,avgs3csvPath)\n",
    "resultDf = main.getResultS3(probDf,subDf , \"Avg\", True)\n",
    "avgs3csvPath  = 's3://dl-prod-analytics/sandbox/research/manu-rathi/RF_270624/' + nonSubTableYMD + '_Sam_Avg.csv'\n",
    "main.storeOutput(resultDf,avgs3csvPath)"
   ]
  },
  {
   "cell_type": "code",
   "execution_count": 15,
   "id": "c1bbe9af-4fe6-43fd-846c-99f4686f8fec",
   "metadata": {},
   "outputs": [],
   "source": [
    "# for i in allTableDf.index[25:]:\n",
    "    \n",
    "#     nonSubTableName, nonSubTableDate, nonSubTableYMD = allTableDf.loc[i]['Table Name'], allTableDf.loc[i]['Table Date'], allTableDf.loc[i]['YMD'] \n",
    "#     sliceDf = allTableDf[allTableDf['Table Date'] < nonSubTableDate]\n",
    "#     modelDict = dict(zip(sliceDf['Table Date'], sliceDf['Model Path']))"
   ]
  },
  {
   "cell_type": "code",
   "execution_count": 40,
   "id": "6d5bad7f-c60c-4562-ab96-c9c5afcbb97e",
   "metadata": {},
   "outputs": [
    {
     "name": "stdout",
     "output_type": "stream",
     "text": [
      "Table Reading Done\n"
     ]
    },
    {
     "name": "stderr",
     "output_type": "stream",
     "text": [
      "/opt/conda/lib/python3.11/site-packages/sklearn/base.py:376: InconsistentVersionWarning: Trying to unpickle estimator DecisionTreeClassifier from version 1.4.2 when using version 1.5.2. This might lead to breaking code or invalid results. Use at your own risk. For more info please refer to:\n",
      "https://scikit-learn.org/stable/model_persistence.html#security-maintainability-limitations\n",
      "  warnings.warn(\n",
      "/opt/conda/lib/python3.11/site-packages/sklearn/base.py:376: InconsistentVersionWarning: Trying to unpickle estimator RandomForestClassifier from version 1.4.2 when using version 1.5.2. This might lead to breaking code or invalid results. Use at your own risk. For more info please refer to:\n",
      "https://scikit-learn.org/stable/model_persistence.html#security-maintainability-limitations\n",
      "  warnings.warn(\n"
     ]
    },
    {
     "name": "stdout",
     "output_type": "stream",
     "text": [
      "Model Reading Done\n",
      "2023-02-28\n"
     ]
    },
    {
     "name": "stderr",
     "output_type": "stream",
     "text": [
      "/opt/conda/lib/python3.11/site-packages/sklearn/base.py:376: InconsistentVersionWarning: Trying to unpickle estimator DecisionTreeClassifier from version 1.4.2 when using version 1.5.2. This might lead to breaking code or invalid results. Use at your own risk. For more info please refer to:\n",
      "https://scikit-learn.org/stable/model_persistence.html#security-maintainability-limitations\n",
      "  warnings.warn(\n",
      "/opt/conda/lib/python3.11/site-packages/sklearn/base.py:376: InconsistentVersionWarning: Trying to unpickle estimator RandomForestClassifier from version 1.4.2 when using version 1.5.2. This might lead to breaking code or invalid results. Use at your own risk. For more info please refer to:\n",
      "https://scikit-learn.org/stable/model_persistence.html#security-maintainability-limitations\n",
      "  warnings.warn(\n"
     ]
    },
    {
     "name": "stdout",
     "output_type": "stream",
     "text": [
      "Model Reading Done\n",
      "2023-03-31\n"
     ]
    },
    {
     "name": "stderr",
     "output_type": "stream",
     "text": [
      "/opt/conda/lib/python3.11/site-packages/sklearn/base.py:376: InconsistentVersionWarning: Trying to unpickle estimator DecisionTreeClassifier from version 1.4.2 when using version 1.5.2. This might lead to breaking code or invalid results. Use at your own risk. For more info please refer to:\n",
      "https://scikit-learn.org/stable/model_persistence.html#security-maintainability-limitations\n",
      "  warnings.warn(\n",
      "/opt/conda/lib/python3.11/site-packages/sklearn/base.py:376: InconsistentVersionWarning: Trying to unpickle estimator RandomForestClassifier from version 1.4.2 when using version 1.5.2. This might lead to breaking code or invalid results. Use at your own risk. For more info please refer to:\n",
      "https://scikit-learn.org/stable/model_persistence.html#security-maintainability-limitations\n",
      "  warnings.warn(\n"
     ]
    },
    {
     "name": "stdout",
     "output_type": "stream",
     "text": [
      "Model Reading Done\n",
      "2023-04-30\n"
     ]
    },
    {
     "name": "stderr",
     "output_type": "stream",
     "text": [
      "/opt/conda/lib/python3.11/site-packages/sklearn/base.py:376: InconsistentVersionWarning: Trying to unpickle estimator DecisionTreeClassifier from version 1.4.2 when using version 1.5.2. This might lead to breaking code or invalid results. Use at your own risk. For more info please refer to:\n",
      "https://scikit-learn.org/stable/model_persistence.html#security-maintainability-limitations\n",
      "  warnings.warn(\n",
      "/opt/conda/lib/python3.11/site-packages/sklearn/base.py:376: InconsistentVersionWarning: Trying to unpickle estimator RandomForestClassifier from version 1.4.2 when using version 1.5.2. This might lead to breaking code or invalid results. Use at your own risk. For more info please refer to:\n",
      "https://scikit-learn.org/stable/model_persistence.html#security-maintainability-limitations\n",
      "  warnings.warn(\n"
     ]
    },
    {
     "name": "stdout",
     "output_type": "stream",
     "text": [
      "Model Reading Done\n",
      "2023-05-31\n"
     ]
    },
    {
     "name": "stderr",
     "output_type": "stream",
     "text": [
      "/opt/conda/lib/python3.11/site-packages/sklearn/base.py:376: InconsistentVersionWarning: Trying to unpickle estimator DecisionTreeClassifier from version 1.4.2 when using version 1.5.2. This might lead to breaking code or invalid results. Use at your own risk. For more info please refer to:\n",
      "https://scikit-learn.org/stable/model_persistence.html#security-maintainability-limitations\n",
      "  warnings.warn(\n",
      "/opt/conda/lib/python3.11/site-packages/sklearn/base.py:376: InconsistentVersionWarning: Trying to unpickle estimator RandomForestClassifier from version 1.4.2 when using version 1.5.2. This might lead to breaking code or invalid results. Use at your own risk. For more info please refer to:\n",
      "https://scikit-learn.org/stable/model_persistence.html#security-maintainability-limitations\n",
      "  warnings.warn(\n"
     ]
    },
    {
     "name": "stdout",
     "output_type": "stream",
     "text": [
      "Model Reading Done\n",
      "2023-06-30\n"
     ]
    },
    {
     "name": "stderr",
     "output_type": "stream",
     "text": [
      "/opt/conda/lib/python3.11/site-packages/sklearn/base.py:376: InconsistentVersionWarning: Trying to unpickle estimator DecisionTreeClassifier from version 1.4.2 when using version 1.5.2. This might lead to breaking code or invalid results. Use at your own risk. For more info please refer to:\n",
      "https://scikit-learn.org/stable/model_persistence.html#security-maintainability-limitations\n",
      "  warnings.warn(\n",
      "/opt/conda/lib/python3.11/site-packages/sklearn/base.py:376: InconsistentVersionWarning: Trying to unpickle estimator RandomForestClassifier from version 1.4.2 when using version 1.5.2. This might lead to breaking code or invalid results. Use at your own risk. For more info please refer to:\n",
      "https://scikit-learn.org/stable/model_persistence.html#security-maintainability-limitations\n",
      "  warnings.warn(\n"
     ]
    },
    {
     "name": "stdout",
     "output_type": "stream",
     "text": [
      "Model Reading Done\n",
      "2023-07-31\n"
     ]
    },
    {
     "name": "stderr",
     "output_type": "stream",
     "text": [
      "/opt/conda/lib/python3.11/site-packages/sklearn/base.py:376: InconsistentVersionWarning: Trying to unpickle estimator DecisionTreeClassifier from version 1.4.2 when using version 1.5.2. This might lead to breaking code or invalid results. Use at your own risk. For more info please refer to:\n",
      "https://scikit-learn.org/stable/model_persistence.html#security-maintainability-limitations\n",
      "  warnings.warn(\n",
      "/opt/conda/lib/python3.11/site-packages/sklearn/base.py:376: InconsistentVersionWarning: Trying to unpickle estimator RandomForestClassifier from version 1.4.2 when using version 1.5.2. This might lead to breaking code or invalid results. Use at your own risk. For more info please refer to:\n",
      "https://scikit-learn.org/stable/model_persistence.html#security-maintainability-limitations\n",
      "  warnings.warn(\n"
     ]
    },
    {
     "name": "stdout",
     "output_type": "stream",
     "text": [
      "Model Reading Done\n",
      "2023-08-31\n"
     ]
    },
    {
     "name": "stderr",
     "output_type": "stream",
     "text": [
      "/opt/conda/lib/python3.11/site-packages/sklearn/base.py:376: InconsistentVersionWarning: Trying to unpickle estimator DecisionTreeClassifier from version 1.4.2 when using version 1.5.2. This might lead to breaking code or invalid results. Use at your own risk. For more info please refer to:\n",
      "https://scikit-learn.org/stable/model_persistence.html#security-maintainability-limitations\n",
      "  warnings.warn(\n",
      "/opt/conda/lib/python3.11/site-packages/sklearn/base.py:376: InconsistentVersionWarning: Trying to unpickle estimator RandomForestClassifier from version 1.4.2 when using version 1.5.2. This might lead to breaking code or invalid results. Use at your own risk. For more info please refer to:\n",
      "https://scikit-learn.org/stable/model_persistence.html#security-maintainability-limitations\n",
      "  warnings.warn(\n"
     ]
    },
    {
     "name": "stdout",
     "output_type": "stream",
     "text": [
      "Model Reading Done\n",
      "2023-09-30\n"
     ]
    },
    {
     "name": "stderr",
     "output_type": "stream",
     "text": [
      "/opt/conda/lib/python3.11/site-packages/sklearn/base.py:376: InconsistentVersionWarning: Trying to unpickle estimator DecisionTreeClassifier from version 1.4.2 when using version 1.5.2. This might lead to breaking code or invalid results. Use at your own risk. For more info please refer to:\n",
      "https://scikit-learn.org/stable/model_persistence.html#security-maintainability-limitations\n",
      "  warnings.warn(\n",
      "/opt/conda/lib/python3.11/site-packages/sklearn/base.py:376: InconsistentVersionWarning: Trying to unpickle estimator RandomForestClassifier from version 1.4.2 when using version 1.5.2. This might lead to breaking code or invalid results. Use at your own risk. For more info please refer to:\n",
      "https://scikit-learn.org/stable/model_persistence.html#security-maintainability-limitations\n",
      "  warnings.warn(\n"
     ]
    },
    {
     "name": "stdout",
     "output_type": "stream",
     "text": [
      "Model Reading Done\n",
      "2023-10-31\n"
     ]
    },
    {
     "name": "stderr",
     "output_type": "stream",
     "text": [
      "/opt/conda/lib/python3.11/site-packages/sklearn/base.py:376: InconsistentVersionWarning: Trying to unpickle estimator DecisionTreeClassifier from version 1.4.2 when using version 1.5.2. This might lead to breaking code or invalid results. Use at your own risk. For more info please refer to:\n",
      "https://scikit-learn.org/stable/model_persistence.html#security-maintainability-limitations\n",
      "  warnings.warn(\n",
      "/opt/conda/lib/python3.11/site-packages/sklearn/base.py:376: InconsistentVersionWarning: Trying to unpickle estimator RandomForestClassifier from version 1.4.2 when using version 1.5.2. This might lead to breaking code or invalid results. Use at your own risk. For more info please refer to:\n",
      "https://scikit-learn.org/stable/model_persistence.html#security-maintainability-limitations\n",
      "  warnings.warn(\n"
     ]
    },
    {
     "name": "stdout",
     "output_type": "stream",
     "text": [
      "Model Reading Done\n",
      "2023-11-30\n"
     ]
    },
    {
     "name": "stderr",
     "output_type": "stream",
     "text": [
      "/opt/conda/lib/python3.11/site-packages/sklearn/base.py:376: InconsistentVersionWarning: Trying to unpickle estimator DecisionTreeClassifier from version 1.4.2 when using version 1.5.2. This might lead to breaking code or invalid results. Use at your own risk. For more info please refer to:\n",
      "https://scikit-learn.org/stable/model_persistence.html#security-maintainability-limitations\n",
      "  warnings.warn(\n",
      "/opt/conda/lib/python3.11/site-packages/sklearn/base.py:376: InconsistentVersionWarning: Trying to unpickle estimator RandomForestClassifier from version 1.4.2 when using version 1.5.2. This might lead to breaking code or invalid results. Use at your own risk. For more info please refer to:\n",
      "https://scikit-learn.org/stable/model_persistence.html#security-maintainability-limitations\n",
      "  warnings.warn(\n"
     ]
    },
    {
     "name": "stdout",
     "output_type": "stream",
     "text": [
      "Model Reading Done\n",
      "2023-12-31\n"
     ]
    },
    {
     "name": "stderr",
     "output_type": "stream",
     "text": [
      "/opt/conda/lib/python3.11/site-packages/sklearn/base.py:376: InconsistentVersionWarning: Trying to unpickle estimator DecisionTreeClassifier from version 1.4.2 when using version 1.5.2. This might lead to breaking code or invalid results. Use at your own risk. For more info please refer to:\n",
      "https://scikit-learn.org/stable/model_persistence.html#security-maintainability-limitations\n",
      "  warnings.warn(\n",
      "/opt/conda/lib/python3.11/site-packages/sklearn/base.py:376: InconsistentVersionWarning: Trying to unpickle estimator RandomForestClassifier from version 1.4.2 when using version 1.5.2. This might lead to breaking code or invalid results. Use at your own risk. For more info please refer to:\n",
      "https://scikit-learn.org/stable/model_persistence.html#security-maintainability-limitations\n",
      "  warnings.warn(\n"
     ]
    },
    {
     "name": "stdout",
     "output_type": "stream",
     "text": [
      "Model Reading Done\n",
      "2024-01-31\n"
     ]
    },
    {
     "name": "stderr",
     "output_type": "stream",
     "text": [
      "/opt/conda/lib/python3.11/site-packages/sklearn/base.py:376: InconsistentVersionWarning: Trying to unpickle estimator DecisionTreeClassifier from version 1.4.2 when using version 1.5.2. This might lead to breaking code or invalid results. Use at your own risk. For more info please refer to:\n",
      "https://scikit-learn.org/stable/model_persistence.html#security-maintainability-limitations\n",
      "  warnings.warn(\n",
      "/opt/conda/lib/python3.11/site-packages/sklearn/base.py:376: InconsistentVersionWarning: Trying to unpickle estimator RandomForestClassifier from version 1.4.2 when using version 1.5.2. This might lead to breaking code or invalid results. Use at your own risk. For more info please refer to:\n",
      "https://scikit-learn.org/stable/model_persistence.html#security-maintainability-limitations\n",
      "  warnings.warn(\n"
     ]
    },
    {
     "name": "stdout",
     "output_type": "stream",
     "text": [
      "Model Reading Done\n",
      "2024-02-29\n",
      "Model Reading Done\n",
      "2024-03-31\n",
      "Model Reading Done\n",
      "2024-04-30\n",
      "Model Reading Done\n",
      "2024-05-31\n",
      "Model Reading Done\n",
      "2024-06-30\n",
      "Model Reading Done\n",
      "2024-07-31\n",
      "Model Reading Done\n",
      "2024-08-31\n",
      "Model Reading Done\n",
      "2024-09-30\n",
      "Model Reading Done\n",
      "2024-10-31\n",
      "Model Reading Done\n",
      "2024-11-30\n",
      "Model Reading Done\n",
      "2024-12-31\n",
      "Model Reading Done\n",
      "2025-01-31\n",
      "Model Reading Done\n",
      "2025-02-28\n"
     ]
    },
    {
     "ename": "NameError",
     "evalue": "name 'storeOutput' is not defined",
     "output_type": "error",
     "traceback": [
      "\u001b[0;31m---------------------------------------------------------------------------\u001b[0m",
      "\u001b[0;31mNameError\u001b[0m                                 Traceback (most recent call last)",
      "Cell \u001b[0;32mIn[40], line 8\u001b[0m\n\u001b[1;32m      6\u001b[0m allResultDf \u001b[38;5;241m=\u001b[39m main\u001b[38;5;241m.\u001b[39mgetProbTable(s3Path, nonSubTableName, nonSubTableDate, modelDict)\n\u001b[1;32m      7\u001b[0m outputs3csvPath  \u001b[38;5;241m=\u001b[39m \u001b[38;5;124m'\u001b[39m\u001b[38;5;124ms3://dl-prod-analytics/sandbox/research/manu-rathi/RF_270624/Results_MainDf_1500_500_ALL_U/\u001b[39m\u001b[38;5;124m'\u001b[39m \u001b[38;5;241m+\u001b[39m nonSubTableYMD \u001b[38;5;241m+\u001b[39m \u001b[38;5;124m'\u001b[39m\u001b[38;5;124m_060425.csv\u001b[39m\u001b[38;5;124m'\u001b[39m\n\u001b[0;32m----> 8\u001b[0m \u001b[43mstoreOutput\u001b[49m(allResultDf,outputs3csvPath)\n\u001b[1;32m      9\u001b[0m probDf, subDf \u001b[38;5;241m=\u001b[39m getProbSubDf(allResultDf)\n\u001b[1;32m     10\u001b[0m tmpDf \u001b[38;5;241m=\u001b[39m main\u001b[38;5;241m.\u001b[39mgetResultTPTdf(probDf,subDf, nonSubTableDate , \u001b[38;5;124m\"\u001b[39m\u001b[38;5;124mAvg\u001b[39m\u001b[38;5;124m\"\u001b[39m, \u001b[38;5;28;01mTrue\u001b[39;00m)\n",
      "\u001b[0;31mNameError\u001b[0m: name 'storeOutput' is not defined"
     ]
    }
   ],
   "source": [
    "# for i in allTableDf.index[25:]:\n",
    "    \n",
    "#     nonSubTableName, nonSubTableDate, nonSubTableYMD = allTableDf.loc[i]['Table Name'], allTableDf.loc[i]['Table Date'], allTableDf.loc[i]['YMD'] \n",
    "#     sliceDf = allTableDf[allTableDf['Table Date'] < nonSubTableDate]\n",
    "#     modelDict = dict(zip(sliceDf['Table Date'], sliceDf['Model Path']))\n",
    "\n",
    "\n",
    "    \n",
    "#     allResultDf = main.getProbTable(s3Path, nonSubTableName, nonSubTableDate, modelDict)\n",
    "#     outputs3csvPath  = 's3://dl-prod-analytics/sandbox/research/manu-rathi/RF_270624/Results_MainDf_1500_500_ALL_U/' + nonSubTableYMD + '_060425.csv'\n",
    "#     main.storeOutput(allResultDf,outputs3csvPath)\n",
    "#     probDf, subDf = main.getProbSubDf(allResultDf)\n",
    "#     tmpDf = main.getResultTPTdf(probDf,subDf, nonSubTableDate , \"Avg\", True)\n",
    "#     avgs3csvPath  = 's3://dl-prod-analytics/sandbox/research/manu-rathi/RF_270624/Results_MainDf_1500_500_ALL_Decile/' + nonSubTableYMD + '_060425_NotTrimmed.csv'\n",
    "#     main.storeOutput(tmpDf,avgs3csvPath)"
   ]
  },
  {
   "cell_type": "code",
   "execution_count": 42,
   "id": "b3121a0e-7d63-468f-a7b6-c8b83795501d",
   "metadata": {},
   "outputs": [
    {
     "name": "stdout",
     "output_type": "stream",
     "text": [
      "output loade in s3\n"
     ]
    }
   ],
   "source": [
    "# outputs3csvPath  = 's3://dl-prod-analytics/sandbox/research/manu-rathi/RF_270624/Results_MainDf_1500_500_ALL_U/' + nonSubTableYMD + '_060425.csv'\n",
    "# main.storeOutput(allResultDf,outputs3csvPath)"
   ]
  },
  {
   "cell_type": "code",
   "execution_count": 44,
   "id": "621f6645-ebb7-40c2-b7f4-5ec9ca62d15c",
   "metadata": {},
   "outputs": [
    {
     "name": "stdout",
     "output_type": "stream",
     "text": [
      "output loade in s3\n"
     ]
    }
   ],
   "source": [
    "# probDf, subDf = main.getProbSubDf(allResultDf)\n",
    "# tmpDf = main.getResultTPTdf(probDf,subDf, nonSubTableDate , \"Avg\", True)\n",
    "# avgs3csvPath  = 's3://dl-prod-analytics/sandbox/research/manu-rathi/RF_270624/Results_MainDf_1500_500_ALL_Decile/' + nonSubTableYMD + '_060425_NotTrimmed.csv'\n",
    "# main.storeOutput(tmpDf,avgs3csvPath)"
   ]
  },
  {
   "cell_type": "code",
   "execution_count": 48,
   "id": "6481c9a3-f5a6-497a-a763-6c07a425a360",
   "metadata": {},
   "outputs": [],
   "source": [
    "# resultDf = main.getResultS3(probDf,subDf , \"Avg\", True)"
   ]
  },
  {
   "cell_type": "code",
   "execution_count": 51,
   "id": "97cd2e72-39de-4aff-945d-1cbb20fe9533",
   "metadata": {},
   "outputs": [
    {
     "name": "stdout",
     "output_type": "stream",
     "text": [
      "output loade in s3\n"
     ]
    }
   ],
   "source": [
    "# avgs3csvPath  = 's3://dl-prod-analytics/sandbox/research/manu-rathi/RF_270624/' + nonSubTableYMD + '_Sam_Avg.csv'\n",
    "# main.storeOutput(resultDf,avgs3csvPath)"
   ]
  },
  {
   "cell_type": "code",
   "execution_count": null,
   "id": "0912544a-1d7e-47d5-bd8d-cb2ebf5960ad",
   "metadata": {},
   "outputs": [],
   "source": []
  }
 ],
 "metadata": {
  "kernelspec": {
   "display_name": "Python 3 (ipykernel)",
   "language": "python",
   "name": "python3"
  },
  "language_info": {
   "codemirror_mode": {
    "name": "ipython",
    "version": 3
   },
   "file_extension": ".py",
   "mimetype": "text/x-python",
   "name": "python",
   "nbconvert_exporter": "python",
   "pygments_lexer": "ipython3",
   "version": "3.11.11"
  }
 },
 "nbformat": 4,
 "nbformat_minor": 5
}
