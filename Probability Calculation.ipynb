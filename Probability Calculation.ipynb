{
 "cells": [
  {
   "cell_type": "code",
   "execution_count": 3,
   "id": "68becfcd-bbf2-4ca9-9848-8bfc7659f820",
   "metadata": {},
   "outputs": [],
   "source": [
    "import pandas as pd\n",
    "from datetime import date\n",
    "import io\n",
    "import boto3\n",
    "import joblib\n",
    "import numpy as np"
   ]
  },
  {
   "cell_type": "code",
   "execution_count": 5,
   "id": "ba078aba-5ac8-4b1a-a620-2da9d8af117b",
   "metadata": {},
   "outputs": [
    {
     "name": "stdout",
     "output_type": "stream",
     "text": [
      "Collecting awswrangler\n",
      "  Using cached awswrangler-3.11.0-py3-none-any.whl.metadata (17 kB)\n",
      "Requirement already satisfied: boto3<2.0.0,>=1.20.32 in /opt/conda/lib/python3.11/site-packages (from awswrangler) (1.36.23)\n",
      "Requirement already satisfied: botocore<2.0.0,>=1.23.32 in /opt/conda/lib/python3.11/site-packages (from awswrangler) (1.36.23)\n",
      "Requirement already satisfied: numpy<3.0,>=1.26 in /opt/conda/lib/python3.11/site-packages (from awswrangler) (1.26.4)\n",
      "Requirement already satisfied: packaging<25.0,>=21.1 in /opt/conda/lib/python3.11/site-packages (from awswrangler) (24.2)\n",
      "Requirement already satisfied: pandas<3.0.0,>=1.2.0 in /opt/conda/lib/python3.11/site-packages (from awswrangler) (2.2.3)\n",
      "Requirement already satisfied: pyarrow<19.0.0,>=8.0.0 in /opt/conda/lib/python3.11/site-packages (from awswrangler) (17.0.0)\n",
      "Requirement already satisfied: typing-extensions<5.0.0,>=4.4.0 in /opt/conda/lib/python3.11/site-packages (from awswrangler) (4.12.2)\n",
      "Requirement already satisfied: jmespath<2.0.0,>=0.7.1 in /opt/conda/lib/python3.11/site-packages (from boto3<2.0.0,>=1.20.32->awswrangler) (1.0.1)\n",
      "Requirement already satisfied: s3transfer<0.12.0,>=0.11.0 in /opt/conda/lib/python3.11/site-packages (from boto3<2.0.0,>=1.20.32->awswrangler) (0.11.3)\n",
      "Requirement already satisfied: python-dateutil<3.0.0,>=2.1 in /opt/conda/lib/python3.11/site-packages (from botocore<2.0.0,>=1.23.32->awswrangler) (2.9.0.post0)\n",
      "Requirement already satisfied: urllib3!=2.2.0,<3,>=1.25.4 in /opt/conda/lib/python3.11/site-packages (from botocore<2.0.0,>=1.23.32->awswrangler) (2.3.0)\n",
      "Requirement already satisfied: pytz>=2020.1 in /opt/conda/lib/python3.11/site-packages (from pandas<3.0.0,>=1.2.0->awswrangler) (2024.1)\n",
      "Requirement already satisfied: tzdata>=2022.7 in /opt/conda/lib/python3.11/site-packages (from pandas<3.0.0,>=1.2.0->awswrangler) (2025.1)\n",
      "Requirement already satisfied: six>=1.5 in /opt/conda/lib/python3.11/site-packages (from python-dateutil<3.0.0,>=2.1->botocore<2.0.0,>=1.23.32->awswrangler) (1.17.0)\n",
      "Using cached awswrangler-3.11.0-py3-none-any.whl (379 kB)\n",
      "Installing collected packages: awswrangler\n",
      "Successfully installed awswrangler-3.11.0\n"
     ]
    }
   ],
   "source": [
    "!pip install awswrangler"
   ]
  },
  {
   "cell_type": "code",
   "execution_count": 47,
   "id": "f27e555c-7323-44c2-a274-abbeebd274bd",
   "metadata": {},
   "outputs": [],
   "source": [
    "# import main as main\n",
    "import importlib\n",
    "importlib.reload(main)\n",
    "import main as main"
   ]
  },
  {
   "cell_type": "code",
   "execution_count": null,
   "id": "7aea3d3e-68d3-4b55-8e6c-ffee9f631fe6",
   "metadata": {},
   "outputs": [],
   "source": []
  },
  {
   "cell_type": "code",
   "execution_count": null,
   "id": "6ea50aae-52e2-436b-9196-53f8088aafef",
   "metadata": {},
   "outputs": [],
   "source": [
    "# table versioning as well as model versioning"
   ]
  },
  {
   "cell_type": "code",
   "execution_count": 7,
   "id": "ecff6204-51e4-46a9-86cb-f9bbd1d21947",
   "metadata": {},
   "outputs": [],
   "source": [
    "tableList1 = ['ds_user_master_table_2023_02_28',\n",
    "'ds_user_master_table_2023_03_31',\n",
    "'ds_user_master_table_2023_04_30',\n",
    "'ds_user_master_table_2023_05_31',\n",
    "'ds_user_master_table_2023_06_30',\n",
    "'ds_user_master_table_2023_07_31']"
   ]
  },
  {
   "cell_type": "code",
   "execution_count": 8,
   "id": "35f6ad69-529e-4985-9f7d-10e5b2033e22",
   "metadata": {},
   "outputs": [],
   "source": [
    "tableList2 =['ds191124_user_master_table_2023_08_31',\n",
    "'ds191124_user_master_table_2023_09_30',\n",
    "'ds191124_user_master_table_2023_10_31',\n",
    "'ds191124_user_master_table_2023_11_30']"
   ]
  },
  {
   "cell_type": "code",
   "execution_count": 9,
   "id": "37fb1602-1704-4df3-8382-e141f0fb887f",
   "metadata": {},
   "outputs": [],
   "source": [
    "tableList3 = ['ds150125_user_master_table_2023_12_31',\n",
    "'ds150125_user_master_table_2024_01_31',\n",
    "'ds150125_user_master_table_2024_02_29']"
   ]
  },
  {
   "cell_type": "code",
   "execution_count": 10,
   "id": "bca64aff-3899-428a-b094-59cacb07dda9",
   "metadata": {},
   "outputs": [],
   "source": [
    "tableList = ['ds060425_user_master_table_2024_03_31',\n",
    "'ds060425_user_master_table_2024_04_30',\n",
    "'ds060425_user_master_table_2024_05_31',\n",
    "'ds060425_user_master_table_2024_06_30',\n",
    "'ds060425_user_master_table_2024_07_31',\n",
    "'ds060425_user_master_table_2024_08_31',\n",
    "'ds060425_user_master_table_2024_09_30',\n",
    "'ds060425_user_master_table_2024_10_31',\n",
    "'ds060425_user_master_table_2024_11_30',\n",
    "'ds060425_user_master_table_2024_12_31',\n",
    "'ds060425_user_master_table_2025_01_31',\n",
    "'ds060425_user_master_table_2025_02_28',\n",
    "'ds060425_user_master_table_2025_03_31']"
   ]
  },
  {
   "cell_type": "code",
   "execution_count": 11,
   "id": "0dd3c4c2-388e-4d0d-a1ad-0d5284bccda2",
   "metadata": {},
   "outputs": [],
   "source": [
    "allTableDf = pd.DataFrame(columns = ['Table Name'])\n",
    "allTableDf['Table Name']  = (tableList1) + (tableList2)+ (tableList3)+(tableList)"
   ]
  },
  {
   "cell_type": "code",
   "execution_count": 12,
   "id": "98f8fe94-a2e9-4ffc-9104-6dabaf620643",
   "metadata": {},
   "outputs": [],
   "source": [
    "allTableDf[['Table Date', 'YMD', 'Prefix']] = pd.DataFrame(list(allTableDf['Table Name'].map(main.getMetadataTable)),\n",
    "             columns=['Table Date', 'YMD', 'Prefix'])"
   ]
  },
  {
   "cell_type": "code",
   "execution_count": 19,
   "id": "89168520-e1c7-4d36-95a8-ae05af2655c8",
   "metadata": {},
   "outputs": [],
   "source": [
    "s3Path = 's3://dl-prod-analytics/sandbox/research/manu-rathi/RF_270624/RF_MainDf_1500_500/'"
   ]
  },
  {
   "cell_type": "code",
   "execution_count": 21,
   "id": "d9a9f8f2-313b-4c8a-af52-021d13ad9b7c",
   "metadata": {
    "scrolled": true
   },
   "outputs": [],
   "source": [
    "allTableDf['Model Path'] = [s3Path + x[0] + '_' + x[1] + '.joblib' if x[1] else s3Path + x[0] + '.joblib' for x in allTableDf[['YMD' , 'Prefix' ]].values]"
   ]
  },
  {
   "cell_type": "code",
   "execution_count": 25,
   "id": "40a007e5-604c-427b-8de6-1c4a9b4a9ae3",
   "metadata": {},
   "outputs": [],
   "source": [
    "# def getProbTable(s3Path, nonSubTableName, nonSubTableDate, sliceDf):  \n",
    "#     nonSubDf = main.getTableData(nonSubTableName)\n",
    "#     print('Table Reading Done')\n",
    "#     allResultDf = pd.DataFrame()\n",
    "#     for i in sliceDf.index:\n",
    "#         ymd = sliceDf.loc[i,'YMD']\n",
    "#         prefix = sliceDf.loc[i,'Prefix']\n",
    "#         tableDate = sliceDf.loc[i,'Table Date']\n",
    "#         modelSuffix = ymd + '_' + prefix + '.joblib' if prefix else ymd + '.joblib'\n",
    "#         modelPath = s3Path + modelSuffix\n",
    "#         model = getModel(modelPath)\n",
    "#         print('Model Reading Done')\n",
    "#         resultDf = getProbScore(model,nonSubTableName, nonSubTableDate,tableDate ,nonSubDf)\n",
    "#         allResultDf = pd.concat([allResultDf, resultDf], axis = 1) \n",
    "#         print(ymd)\n",
    "    # return allResultDf"
   ]
  },
  {
   "cell_type": "code",
   "execution_count": 40,
   "id": "6d5bad7f-c60c-4562-ab96-c9c5afcbb97e",
   "metadata": {
    "scrolled": true
   },
   "outputs": [
    {
     "name": "stdout",
     "output_type": "stream",
     "text": [
      "Table Reading Done\n"
     ]
    },
    {
     "name": "stderr",
     "output_type": "stream",
     "text": [
      "/opt/conda/lib/python3.11/site-packages/sklearn/base.py:376: InconsistentVersionWarning: Trying to unpickle estimator DecisionTreeClassifier from version 1.4.2 when using version 1.5.2. This might lead to breaking code or invalid results. Use at your own risk. For more info please refer to:\n",
      "https://scikit-learn.org/stable/model_persistence.html#security-maintainability-limitations\n",
      "  warnings.warn(\n",
      "/opt/conda/lib/python3.11/site-packages/sklearn/base.py:376: InconsistentVersionWarning: Trying to unpickle estimator RandomForestClassifier from version 1.4.2 when using version 1.5.2. This might lead to breaking code or invalid results. Use at your own risk. For more info please refer to:\n",
      "https://scikit-learn.org/stable/model_persistence.html#security-maintainability-limitations\n",
      "  warnings.warn(\n"
     ]
    },
    {
     "name": "stdout",
     "output_type": "stream",
     "text": [
      "Model Reading Done\n",
      "2023-02-28\n"
     ]
    },
    {
     "name": "stderr",
     "output_type": "stream",
     "text": [
      "/opt/conda/lib/python3.11/site-packages/sklearn/base.py:376: InconsistentVersionWarning: Trying to unpickle estimator DecisionTreeClassifier from version 1.4.2 when using version 1.5.2. This might lead to breaking code or invalid results. Use at your own risk. For more info please refer to:\n",
      "https://scikit-learn.org/stable/model_persistence.html#security-maintainability-limitations\n",
      "  warnings.warn(\n",
      "/opt/conda/lib/python3.11/site-packages/sklearn/base.py:376: InconsistentVersionWarning: Trying to unpickle estimator RandomForestClassifier from version 1.4.2 when using version 1.5.2. This might lead to breaking code or invalid results. Use at your own risk. For more info please refer to:\n",
      "https://scikit-learn.org/stable/model_persistence.html#security-maintainability-limitations\n",
      "  warnings.warn(\n"
     ]
    },
    {
     "name": "stdout",
     "output_type": "stream",
     "text": [
      "Model Reading Done\n",
      "2023-03-31\n"
     ]
    },
    {
     "name": "stderr",
     "output_type": "stream",
     "text": [
      "/opt/conda/lib/python3.11/site-packages/sklearn/base.py:376: InconsistentVersionWarning: Trying to unpickle estimator DecisionTreeClassifier from version 1.4.2 when using version 1.5.2. This might lead to breaking code or invalid results. Use at your own risk. For more info please refer to:\n",
      "https://scikit-learn.org/stable/model_persistence.html#security-maintainability-limitations\n",
      "  warnings.warn(\n",
      "/opt/conda/lib/python3.11/site-packages/sklearn/base.py:376: InconsistentVersionWarning: Trying to unpickle estimator RandomForestClassifier from version 1.4.2 when using version 1.5.2. This might lead to breaking code or invalid results. Use at your own risk. For more info please refer to:\n",
      "https://scikit-learn.org/stable/model_persistence.html#security-maintainability-limitations\n",
      "  warnings.warn(\n"
     ]
    },
    {
     "name": "stdout",
     "output_type": "stream",
     "text": [
      "Model Reading Done\n",
      "2023-04-30\n"
     ]
    },
    {
     "name": "stderr",
     "output_type": "stream",
     "text": [
      "/opt/conda/lib/python3.11/site-packages/sklearn/base.py:376: InconsistentVersionWarning: Trying to unpickle estimator DecisionTreeClassifier from version 1.4.2 when using version 1.5.2. This might lead to breaking code or invalid results. Use at your own risk. For more info please refer to:\n",
      "https://scikit-learn.org/stable/model_persistence.html#security-maintainability-limitations\n",
      "  warnings.warn(\n",
      "/opt/conda/lib/python3.11/site-packages/sklearn/base.py:376: InconsistentVersionWarning: Trying to unpickle estimator RandomForestClassifier from version 1.4.2 when using version 1.5.2. This might lead to breaking code or invalid results. Use at your own risk. For more info please refer to:\n",
      "https://scikit-learn.org/stable/model_persistence.html#security-maintainability-limitations\n",
      "  warnings.warn(\n"
     ]
    },
    {
     "name": "stdout",
     "output_type": "stream",
     "text": [
      "Model Reading Done\n",
      "2023-05-31\n"
     ]
    },
    {
     "name": "stderr",
     "output_type": "stream",
     "text": [
      "/opt/conda/lib/python3.11/site-packages/sklearn/base.py:376: InconsistentVersionWarning: Trying to unpickle estimator DecisionTreeClassifier from version 1.4.2 when using version 1.5.2. This might lead to breaking code or invalid results. Use at your own risk. For more info please refer to:\n",
      "https://scikit-learn.org/stable/model_persistence.html#security-maintainability-limitations\n",
      "  warnings.warn(\n",
      "/opt/conda/lib/python3.11/site-packages/sklearn/base.py:376: InconsistentVersionWarning: Trying to unpickle estimator RandomForestClassifier from version 1.4.2 when using version 1.5.2. This might lead to breaking code or invalid results. Use at your own risk. For more info please refer to:\n",
      "https://scikit-learn.org/stable/model_persistence.html#security-maintainability-limitations\n",
      "  warnings.warn(\n"
     ]
    },
    {
     "name": "stdout",
     "output_type": "stream",
     "text": [
      "Model Reading Done\n",
      "2023-06-30\n"
     ]
    },
    {
     "name": "stderr",
     "output_type": "stream",
     "text": [
      "/opt/conda/lib/python3.11/site-packages/sklearn/base.py:376: InconsistentVersionWarning: Trying to unpickle estimator DecisionTreeClassifier from version 1.4.2 when using version 1.5.2. This might lead to breaking code or invalid results. Use at your own risk. For more info please refer to:\n",
      "https://scikit-learn.org/stable/model_persistence.html#security-maintainability-limitations\n",
      "  warnings.warn(\n",
      "/opt/conda/lib/python3.11/site-packages/sklearn/base.py:376: InconsistentVersionWarning: Trying to unpickle estimator RandomForestClassifier from version 1.4.2 when using version 1.5.2. This might lead to breaking code or invalid results. Use at your own risk. For more info please refer to:\n",
      "https://scikit-learn.org/stable/model_persistence.html#security-maintainability-limitations\n",
      "  warnings.warn(\n"
     ]
    },
    {
     "name": "stdout",
     "output_type": "stream",
     "text": [
      "Model Reading Done\n",
      "2023-07-31\n"
     ]
    },
    {
     "name": "stderr",
     "output_type": "stream",
     "text": [
      "/opt/conda/lib/python3.11/site-packages/sklearn/base.py:376: InconsistentVersionWarning: Trying to unpickle estimator DecisionTreeClassifier from version 1.4.2 when using version 1.5.2. This might lead to breaking code or invalid results. Use at your own risk. For more info please refer to:\n",
      "https://scikit-learn.org/stable/model_persistence.html#security-maintainability-limitations\n",
      "  warnings.warn(\n",
      "/opt/conda/lib/python3.11/site-packages/sklearn/base.py:376: InconsistentVersionWarning: Trying to unpickle estimator RandomForestClassifier from version 1.4.2 when using version 1.5.2. This might lead to breaking code or invalid results. Use at your own risk. For more info please refer to:\n",
      "https://scikit-learn.org/stable/model_persistence.html#security-maintainability-limitations\n",
      "  warnings.warn(\n"
     ]
    },
    {
     "name": "stdout",
     "output_type": "stream",
     "text": [
      "Model Reading Done\n",
      "2023-08-31\n"
     ]
    },
    {
     "name": "stderr",
     "output_type": "stream",
     "text": [
      "/opt/conda/lib/python3.11/site-packages/sklearn/base.py:376: InconsistentVersionWarning: Trying to unpickle estimator DecisionTreeClassifier from version 1.4.2 when using version 1.5.2. This might lead to breaking code or invalid results. Use at your own risk. For more info please refer to:\n",
      "https://scikit-learn.org/stable/model_persistence.html#security-maintainability-limitations\n",
      "  warnings.warn(\n",
      "/opt/conda/lib/python3.11/site-packages/sklearn/base.py:376: InconsistentVersionWarning: Trying to unpickle estimator RandomForestClassifier from version 1.4.2 when using version 1.5.2. This might lead to breaking code or invalid results. Use at your own risk. For more info please refer to:\n",
      "https://scikit-learn.org/stable/model_persistence.html#security-maintainability-limitations\n",
      "  warnings.warn(\n"
     ]
    },
    {
     "name": "stdout",
     "output_type": "stream",
     "text": [
      "Model Reading Done\n",
      "2023-09-30\n"
     ]
    },
    {
     "name": "stderr",
     "output_type": "stream",
     "text": [
      "/opt/conda/lib/python3.11/site-packages/sklearn/base.py:376: InconsistentVersionWarning: Trying to unpickle estimator DecisionTreeClassifier from version 1.4.2 when using version 1.5.2. This might lead to breaking code or invalid results. Use at your own risk. For more info please refer to:\n",
      "https://scikit-learn.org/stable/model_persistence.html#security-maintainability-limitations\n",
      "  warnings.warn(\n",
      "/opt/conda/lib/python3.11/site-packages/sklearn/base.py:376: InconsistentVersionWarning: Trying to unpickle estimator RandomForestClassifier from version 1.4.2 when using version 1.5.2. This might lead to breaking code or invalid results. Use at your own risk. For more info please refer to:\n",
      "https://scikit-learn.org/stable/model_persistence.html#security-maintainability-limitations\n",
      "  warnings.warn(\n"
     ]
    },
    {
     "name": "stdout",
     "output_type": "stream",
     "text": [
      "Model Reading Done\n",
      "2023-10-31\n"
     ]
    },
    {
     "name": "stderr",
     "output_type": "stream",
     "text": [
      "/opt/conda/lib/python3.11/site-packages/sklearn/base.py:376: InconsistentVersionWarning: Trying to unpickle estimator DecisionTreeClassifier from version 1.4.2 when using version 1.5.2. This might lead to breaking code or invalid results. Use at your own risk. For more info please refer to:\n",
      "https://scikit-learn.org/stable/model_persistence.html#security-maintainability-limitations\n",
      "  warnings.warn(\n",
      "/opt/conda/lib/python3.11/site-packages/sklearn/base.py:376: InconsistentVersionWarning: Trying to unpickle estimator RandomForestClassifier from version 1.4.2 when using version 1.5.2. This might lead to breaking code or invalid results. Use at your own risk. For more info please refer to:\n",
      "https://scikit-learn.org/stable/model_persistence.html#security-maintainability-limitations\n",
      "  warnings.warn(\n"
     ]
    },
    {
     "name": "stdout",
     "output_type": "stream",
     "text": [
      "Model Reading Done\n",
      "2023-11-30\n"
     ]
    },
    {
     "name": "stderr",
     "output_type": "stream",
     "text": [
      "/opt/conda/lib/python3.11/site-packages/sklearn/base.py:376: InconsistentVersionWarning: Trying to unpickle estimator DecisionTreeClassifier from version 1.4.2 when using version 1.5.2. This might lead to breaking code or invalid results. Use at your own risk. For more info please refer to:\n",
      "https://scikit-learn.org/stable/model_persistence.html#security-maintainability-limitations\n",
      "  warnings.warn(\n",
      "/opt/conda/lib/python3.11/site-packages/sklearn/base.py:376: InconsistentVersionWarning: Trying to unpickle estimator RandomForestClassifier from version 1.4.2 when using version 1.5.2. This might lead to breaking code or invalid results. Use at your own risk. For more info please refer to:\n",
      "https://scikit-learn.org/stable/model_persistence.html#security-maintainability-limitations\n",
      "  warnings.warn(\n"
     ]
    },
    {
     "name": "stdout",
     "output_type": "stream",
     "text": [
      "Model Reading Done\n",
      "2023-12-31\n"
     ]
    },
    {
     "name": "stderr",
     "output_type": "stream",
     "text": [
      "/opt/conda/lib/python3.11/site-packages/sklearn/base.py:376: InconsistentVersionWarning: Trying to unpickle estimator DecisionTreeClassifier from version 1.4.2 when using version 1.5.2. This might lead to breaking code or invalid results. Use at your own risk. For more info please refer to:\n",
      "https://scikit-learn.org/stable/model_persistence.html#security-maintainability-limitations\n",
      "  warnings.warn(\n",
      "/opt/conda/lib/python3.11/site-packages/sklearn/base.py:376: InconsistentVersionWarning: Trying to unpickle estimator RandomForestClassifier from version 1.4.2 when using version 1.5.2. This might lead to breaking code or invalid results. Use at your own risk. For more info please refer to:\n",
      "https://scikit-learn.org/stable/model_persistence.html#security-maintainability-limitations\n",
      "  warnings.warn(\n"
     ]
    },
    {
     "name": "stdout",
     "output_type": "stream",
     "text": [
      "Model Reading Done\n",
      "2024-01-31\n"
     ]
    },
    {
     "name": "stderr",
     "output_type": "stream",
     "text": [
      "/opt/conda/lib/python3.11/site-packages/sklearn/base.py:376: InconsistentVersionWarning: Trying to unpickle estimator DecisionTreeClassifier from version 1.4.2 when using version 1.5.2. This might lead to breaking code or invalid results. Use at your own risk. For more info please refer to:\n",
      "https://scikit-learn.org/stable/model_persistence.html#security-maintainability-limitations\n",
      "  warnings.warn(\n",
      "/opt/conda/lib/python3.11/site-packages/sklearn/base.py:376: InconsistentVersionWarning: Trying to unpickle estimator RandomForestClassifier from version 1.4.2 when using version 1.5.2. This might lead to breaking code or invalid results. Use at your own risk. For more info please refer to:\n",
      "https://scikit-learn.org/stable/model_persistence.html#security-maintainability-limitations\n",
      "  warnings.warn(\n"
     ]
    },
    {
     "name": "stdout",
     "output_type": "stream",
     "text": [
      "Model Reading Done\n",
      "2024-02-29\n",
      "Model Reading Done\n",
      "2024-03-31\n",
      "Model Reading Done\n",
      "2024-04-30\n",
      "Model Reading Done\n",
      "2024-05-31\n",
      "Model Reading Done\n",
      "2024-06-30\n",
      "Model Reading Done\n",
      "2024-07-31\n",
      "Model Reading Done\n",
      "2024-08-31\n",
      "Model Reading Done\n",
      "2024-09-30\n",
      "Model Reading Done\n",
      "2024-10-31\n",
      "Model Reading Done\n",
      "2024-11-30\n",
      "Model Reading Done\n",
      "2024-12-31\n",
      "Model Reading Done\n",
      "2025-01-31\n",
      "Model Reading Done\n",
      "2025-02-28\n"
     ]
    },
    {
     "ename": "NameError",
     "evalue": "name 'storeOutput' is not defined",
     "output_type": "error",
     "traceback": [
      "\u001b[0;31m---------------------------------------------------------------------------\u001b[0m",
      "\u001b[0;31mNameError\u001b[0m                                 Traceback (most recent call last)",
      "Cell \u001b[0;32mIn[40], line 8\u001b[0m\n\u001b[1;32m      6\u001b[0m allResultDf \u001b[38;5;241m=\u001b[39m main\u001b[38;5;241m.\u001b[39mgetProbTable(s3Path, nonSubTableName, nonSubTableDate, modelDict)\n\u001b[1;32m      7\u001b[0m outputs3csvPath  \u001b[38;5;241m=\u001b[39m \u001b[38;5;124m'\u001b[39m\u001b[38;5;124ms3://dl-prod-analytics/sandbox/research/manu-rathi/RF_270624/Results_MainDf_1500_500_ALL_U/\u001b[39m\u001b[38;5;124m'\u001b[39m \u001b[38;5;241m+\u001b[39m nonSubTableYMD \u001b[38;5;241m+\u001b[39m \u001b[38;5;124m'\u001b[39m\u001b[38;5;124m_060425.csv\u001b[39m\u001b[38;5;124m'\u001b[39m\n\u001b[0;32m----> 8\u001b[0m \u001b[43mstoreOutput\u001b[49m(allResultDf,outputs3csvPath)\n\u001b[1;32m      9\u001b[0m probDf, subDf \u001b[38;5;241m=\u001b[39m getProbSubDf(allResultDf)\n\u001b[1;32m     10\u001b[0m tmpDf \u001b[38;5;241m=\u001b[39m main\u001b[38;5;241m.\u001b[39mgetResultTPTdf(probDf,subDf, nonSubTableDate , \u001b[38;5;124m\"\u001b[39m\u001b[38;5;124mAvg\u001b[39m\u001b[38;5;124m\"\u001b[39m, \u001b[38;5;28;01mTrue\u001b[39;00m)\n",
      "\u001b[0;31mNameError\u001b[0m: name 'storeOutput' is not defined"
     ]
    }
   ],
   "source": [
    "for i in allTableDf.index[25:]:\n",
    "    \n",
    "    nonSubTableName, nonSubTableDate, nonSubTableYMD = allTableDf.loc[i]['Table Name'], allTableDf.loc[i]['Table Date'], allTableDf.loc[i]['YMD'] \n",
    "    sliceDf = allTableDf[allTableDf['Table Date'] < nonSubTableDate]\n",
    "    modelDict = dict(zip(sliceDf['Table Date'], sliceDf['Model Path']))\n",
    "    allResultDf = main.getProbTable(s3Path, nonSubTableName, nonSubTableDate, modelDict)\n",
    "    outputs3csvPath  = 's3://dl-prod-analytics/sandbox/research/manu-rathi/RF_270624/Results_MainDf_1500_500_ALL_U/' + nonSubTableYMD + '_060425.csv'\n",
    "    main.storeOutput(allResultDf,outputs3csvPath)\n",
    "    probDf, subDf = main.getProbSubDf(allResultDf)\n",
    "    tmpDf = main.getResultTPTdf(probDf,subDf, nonSubTableDate , \"Avg\", True)\n",
    "    avgs3csvPath  = 's3://dl-prod-analytics/sandbox/research/manu-rathi/RF_270624/Results_MainDf_1500_500_ALL_Decile/' + nonSubTableYMD + '_060425_NotTrimmed.csv'\n",
    "    main.storeOutput(tmpDf,avgs3csvPath)"
   ]
  },
  {
   "cell_type": "code",
   "execution_count": 42,
   "id": "b3121a0e-7d63-468f-a7b6-c8b83795501d",
   "metadata": {},
   "outputs": [
    {
     "name": "stdout",
     "output_type": "stream",
     "text": [
      "output loade in s3\n"
     ]
    }
   ],
   "source": [
    "outputs3csvPath  = 's3://dl-prod-analytics/sandbox/research/manu-rathi/RF_270624/Results_MainDf_1500_500_ALL_U/' + nonSubTableYMD + '_060425.csv'\n",
    "main.storeOutput(allResultDf,outputs3csvPath)"
   ]
  },
  {
   "cell_type": "code",
   "execution_count": 44,
   "id": "621f6645-ebb7-40c2-b7f4-5ec9ca62d15c",
   "metadata": {},
   "outputs": [
    {
     "name": "stdout",
     "output_type": "stream",
     "text": [
      "output loade in s3\n"
     ]
    }
   ],
   "source": [
    "probDf, subDf = main.getProbSubDf(allResultDf)\n",
    "tmpDf = main.getResultTPTdf(probDf,subDf, nonSubTableDate , \"Avg\", True)\n",
    "avgs3csvPath  = 's3://dl-prod-analytics/sandbox/research/manu-rathi/RF_270624/Results_MainDf_1500_500_ALL_Decile/' + nonSubTableYMD + '_060425_NotTrimmed.csv'\n",
    "main.storeOutput(tmpDf,avgs3csvPath)"
   ]
  },
  {
   "cell_type": "code",
   "execution_count": 45,
   "id": "9ba4dd3b-4a51-4fc7-8230-cac2216ca5db",
   "metadata": {
    "scrolled": true
   },
   "outputs": [
    {
     "data": {
      "text/html": [
       "<div>\n",
       "<style scoped>\n",
       "    .dataframe tbody tr th:only-of-type {\n",
       "        vertical-align: middle;\n",
       "    }\n",
       "\n",
       "    .dataframe tbody tr th {\n",
       "        vertical-align: top;\n",
       "    }\n",
       "\n",
       "    .dataframe thead th {\n",
       "        text-align: right;\n",
       "    }\n",
       "</style>\n",
       "<table border=\"1\" class=\"dataframe\">\n",
       "  <thead>\n",
       "    <tr style=\"text-align: right;\">\n",
       "      <th></th>\n",
       "      <th>probability_2023-02-28</th>\n",
       "      <th>probability_2023-03-31</th>\n",
       "      <th>probability_2023-04-30</th>\n",
       "      <th>probability_2023-05-31</th>\n",
       "      <th>probability_2023-06-30</th>\n",
       "      <th>probability_2023-07-31</th>\n",
       "      <th>probability_2023-08-31</th>\n",
       "      <th>probability_2023-09-30</th>\n",
       "      <th>probability_2023-10-31</th>\n",
       "      <th>probability_2023-11-30</th>\n",
       "      <th>...</th>\n",
       "      <th>probability_2024-05-31</th>\n",
       "      <th>probability_2024-06-30</th>\n",
       "      <th>probability_2024-07-31</th>\n",
       "      <th>probability_2024-08-31</th>\n",
       "      <th>probability_2024-09-30</th>\n",
       "      <th>probability_2024-10-31</th>\n",
       "      <th>probability_2024-11-30</th>\n",
       "      <th>probability_2024-12-31</th>\n",
       "      <th>probability_2025-01-31</th>\n",
       "      <th>probability_2025-02-28</th>\n",
       "    </tr>\n",
       "    <tr>\n",
       "      <th>sam</th>\n",
       "      <th></th>\n",
       "      <th></th>\n",
       "      <th></th>\n",
       "      <th></th>\n",
       "      <th></th>\n",
       "      <th></th>\n",
       "      <th></th>\n",
       "      <th></th>\n",
       "      <th></th>\n",
       "      <th></th>\n",
       "      <th></th>\n",
       "      <th></th>\n",
       "      <th></th>\n",
       "      <th></th>\n",
       "      <th></th>\n",
       "      <th></th>\n",
       "      <th></th>\n",
       "      <th></th>\n",
       "      <th></th>\n",
       "      <th></th>\n",
       "      <th></th>\n",
       "    </tr>\n",
       "  </thead>\n",
       "  <tbody>\n",
       "    <tr>\n",
       "      <th>66ed1e9a2eb969580fd48655</th>\n",
       "      <td>0.239984</td>\n",
       "      <td>0.213157</td>\n",
       "      <td>0.219711</td>\n",
       "      <td>0.215528</td>\n",
       "      <td>0.184640</td>\n",
       "      <td>0.151324</td>\n",
       "      <td>0.162094</td>\n",
       "      <td>0.199596</td>\n",
       "      <td>0.239717</td>\n",
       "      <td>0.203458</td>\n",
       "      <td>...</td>\n",
       "      <td>0.278212</td>\n",
       "      <td>0.318245</td>\n",
       "      <td>0.284824</td>\n",
       "      <td>0.252741</td>\n",
       "      <td>NaN</td>\n",
       "      <td>NaN</td>\n",
       "      <td>NaN</td>\n",
       "      <td>NaN</td>\n",
       "      <td>NaN</td>\n",
       "      <td>NaN</td>\n",
       "    </tr>\n",
       "    <tr>\n",
       "      <th>66faf45cf10760882e322529</th>\n",
       "      <td>0.114385</td>\n",
       "      <td>0.101017</td>\n",
       "      <td>0.084222</td>\n",
       "      <td>0.078443</td>\n",
       "      <td>0.077725</td>\n",
       "      <td>0.073361</td>\n",
       "      <td>0.083442</td>\n",
       "      <td>0.104369</td>\n",
       "      <td>0.097372</td>\n",
       "      <td>0.094936</td>\n",
       "      <td>...</td>\n",
       "      <td>0.328587</td>\n",
       "      <td>0.615589</td>\n",
       "      <td>0.608751</td>\n",
       "      <td>0.636792</td>\n",
       "      <td>0.642359</td>\n",
       "      <td>NaN</td>\n",
       "      <td>NaN</td>\n",
       "      <td>NaN</td>\n",
       "      <td>NaN</td>\n",
       "      <td>NaN</td>\n",
       "    </tr>\n",
       "    <tr>\n",
       "      <th>66fbe2cbe46a2b0795091540</th>\n",
       "      <td>0.075433</td>\n",
       "      <td>0.072226</td>\n",
       "      <td>0.072284</td>\n",
       "      <td>0.053675</td>\n",
       "      <td>0.036797</td>\n",
       "      <td>0.016359</td>\n",
       "      <td>0.026006</td>\n",
       "      <td>0.024235</td>\n",
       "      <td>0.024693</td>\n",
       "      <td>0.024277</td>\n",
       "      <td>...</td>\n",
       "      <td>0.062894</td>\n",
       "      <td>0.049699</td>\n",
       "      <td>0.068690</td>\n",
       "      <td>0.087123</td>\n",
       "      <td>0.111603</td>\n",
       "      <td>NaN</td>\n",
       "      <td>NaN</td>\n",
       "      <td>NaN</td>\n",
       "      <td>NaN</td>\n",
       "      <td>NaN</td>\n",
       "    </tr>\n",
       "    <tr>\n",
       "      <th>6700265e6c4395c4d218c8f2</th>\n",
       "      <td>0.141309</td>\n",
       "      <td>0.119361</td>\n",
       "      <td>0.124236</td>\n",
       "      <td>0.114045</td>\n",
       "      <td>0.074688</td>\n",
       "      <td>0.076641</td>\n",
       "      <td>0.070653</td>\n",
       "      <td>0.077346</td>\n",
       "      <td>0.085882</td>\n",
       "      <td>0.085841</td>\n",
       "      <td>...</td>\n",
       "      <td>0.153880</td>\n",
       "      <td>0.138513</td>\n",
       "      <td>0.185819</td>\n",
       "      <td>0.184892</td>\n",
       "      <td>0.156710</td>\n",
       "      <td>NaN</td>\n",
       "      <td>NaN</td>\n",
       "      <td>NaN</td>\n",
       "      <td>NaN</td>\n",
       "      <td>NaN</td>\n",
       "    </tr>\n",
       "    <tr>\n",
       "      <th>6700b4851a0ddf7fd656a020</th>\n",
       "      <td>0.617644</td>\n",
       "      <td>0.601191</td>\n",
       "      <td>0.611307</td>\n",
       "      <td>0.625167</td>\n",
       "      <td>0.614573</td>\n",
       "      <td>0.597129</td>\n",
       "      <td>0.596010</td>\n",
       "      <td>0.582625</td>\n",
       "      <td>0.584952</td>\n",
       "      <td>0.613980</td>\n",
       "      <td>...</td>\n",
       "      <td>0.580330</td>\n",
       "      <td>0.503884</td>\n",
       "      <td>0.492739</td>\n",
       "      <td>0.470982</td>\n",
       "      <td>0.416493</td>\n",
       "      <td>NaN</td>\n",
       "      <td>NaN</td>\n",
       "      <td>NaN</td>\n",
       "      <td>NaN</td>\n",
       "      <td>NaN</td>\n",
       "    </tr>\n",
       "    <tr>\n",
       "      <th>...</th>\n",
       "      <td>...</td>\n",
       "      <td>...</td>\n",
       "      <td>...</td>\n",
       "      <td>...</td>\n",
       "      <td>...</td>\n",
       "      <td>...</td>\n",
       "      <td>...</td>\n",
       "      <td>...</td>\n",
       "      <td>...</td>\n",
       "      <td>...</td>\n",
       "      <td>...</td>\n",
       "      <td>...</td>\n",
       "      <td>...</td>\n",
       "      <td>...</td>\n",
       "      <td>...</td>\n",
       "      <td>...</td>\n",
       "      <td>...</td>\n",
       "      <td>...</td>\n",
       "      <td>...</td>\n",
       "      <td>...</td>\n",
       "      <td>...</td>\n",
       "    </tr>\n",
       "    <tr>\n",
       "      <th>652c5c7cc267fa05e8f2f102</th>\n",
       "      <td>0.426895</td>\n",
       "      <td>0.445650</td>\n",
       "      <td>0.447091</td>\n",
       "      <td>0.460656</td>\n",
       "      <td>0.497611</td>\n",
       "      <td>0.509439</td>\n",
       "      <td>0.465232</td>\n",
       "      <td>0.545561</td>\n",
       "      <td>NaN</td>\n",
       "      <td>NaN</td>\n",
       "      <td>...</td>\n",
       "      <td>NaN</td>\n",
       "      <td>NaN</td>\n",
       "      <td>NaN</td>\n",
       "      <td>NaN</td>\n",
       "      <td>NaN</td>\n",
       "      <td>NaN</td>\n",
       "      <td>NaN</td>\n",
       "      <td>NaN</td>\n",
       "      <td>NaN</td>\n",
       "      <td>NaN</td>\n",
       "    </tr>\n",
       "    <tr>\n",
       "      <th>652c811a9f064f069fe9c996</th>\n",
       "      <td>0.289373</td>\n",
       "      <td>0.268577</td>\n",
       "      <td>0.250612</td>\n",
       "      <td>0.241421</td>\n",
       "      <td>0.273647</td>\n",
       "      <td>0.260370</td>\n",
       "      <td>0.241394</td>\n",
       "      <td>0.256396</td>\n",
       "      <td>NaN</td>\n",
       "      <td>NaN</td>\n",
       "      <td>...</td>\n",
       "      <td>NaN</td>\n",
       "      <td>NaN</td>\n",
       "      <td>NaN</td>\n",
       "      <td>NaN</td>\n",
       "      <td>NaN</td>\n",
       "      <td>NaN</td>\n",
       "      <td>NaN</td>\n",
       "      <td>NaN</td>\n",
       "      <td>NaN</td>\n",
       "      <td>NaN</td>\n",
       "    </tr>\n",
       "    <tr>\n",
       "      <th>652c8e03f29c7405ded45813</th>\n",
       "      <td>0.132107</td>\n",
       "      <td>0.115321</td>\n",
       "      <td>0.122675</td>\n",
       "      <td>0.129171</td>\n",
       "      <td>0.102170</td>\n",
       "      <td>0.079263</td>\n",
       "      <td>0.092187</td>\n",
       "      <td>0.111097</td>\n",
       "      <td>NaN</td>\n",
       "      <td>NaN</td>\n",
       "      <td>...</td>\n",
       "      <td>NaN</td>\n",
       "      <td>NaN</td>\n",
       "      <td>NaN</td>\n",
       "      <td>NaN</td>\n",
       "      <td>NaN</td>\n",
       "      <td>NaN</td>\n",
       "      <td>NaN</td>\n",
       "      <td>NaN</td>\n",
       "      <td>NaN</td>\n",
       "      <td>NaN</td>\n",
       "    </tr>\n",
       "    <tr>\n",
       "      <th>652cd0510ad37e0610e0b9af</th>\n",
       "      <td>0.251020</td>\n",
       "      <td>0.216573</td>\n",
       "      <td>0.208465</td>\n",
       "      <td>0.193641</td>\n",
       "      <td>0.186840</td>\n",
       "      <td>0.190531</td>\n",
       "      <td>0.213075</td>\n",
       "      <td>0.250330</td>\n",
       "      <td>NaN</td>\n",
       "      <td>NaN</td>\n",
       "      <td>...</td>\n",
       "      <td>NaN</td>\n",
       "      <td>NaN</td>\n",
       "      <td>NaN</td>\n",
       "      <td>NaN</td>\n",
       "      <td>NaN</td>\n",
       "      <td>NaN</td>\n",
       "      <td>NaN</td>\n",
       "      <td>NaN</td>\n",
       "      <td>NaN</td>\n",
       "      <td>NaN</td>\n",
       "    </tr>\n",
       "    <tr>\n",
       "      <th>652cd8b5cde51e2e6cbc4215</th>\n",
       "      <td>0.323760</td>\n",
       "      <td>0.309700</td>\n",
       "      <td>0.323895</td>\n",
       "      <td>0.313708</td>\n",
       "      <td>0.330969</td>\n",
       "      <td>0.299758</td>\n",
       "      <td>0.295286</td>\n",
       "      <td>0.288356</td>\n",
       "      <td>NaN</td>\n",
       "      <td>NaN</td>\n",
       "      <td>...</td>\n",
       "      <td>NaN</td>\n",
       "      <td>NaN</td>\n",
       "      <td>NaN</td>\n",
       "      <td>NaN</td>\n",
       "      <td>NaN</td>\n",
       "      <td>NaN</td>\n",
       "      <td>NaN</td>\n",
       "      <td>NaN</td>\n",
       "      <td>NaN</td>\n",
       "      <td>NaN</td>\n",
       "    </tr>\n",
       "  </tbody>\n",
       "</table>\n",
       "<p>1546067 rows × 25 columns</p>\n",
       "</div>"
      ],
      "text/plain": [
       "                          probability_2023-02-28  probability_2023-03-31  \\\n",
       "sam                                                                        \n",
       "66ed1e9a2eb969580fd48655                0.239984                0.213157   \n",
       "66faf45cf10760882e322529                0.114385                0.101017   \n",
       "66fbe2cbe46a2b0795091540                0.075433                0.072226   \n",
       "6700265e6c4395c4d218c8f2                0.141309                0.119361   \n",
       "6700b4851a0ddf7fd656a020                0.617644                0.601191   \n",
       "...                                          ...                     ...   \n",
       "652c5c7cc267fa05e8f2f102                0.426895                0.445650   \n",
       "652c811a9f064f069fe9c996                0.289373                0.268577   \n",
       "652c8e03f29c7405ded45813                0.132107                0.115321   \n",
       "652cd0510ad37e0610e0b9af                0.251020                0.216573   \n",
       "652cd8b5cde51e2e6cbc4215                0.323760                0.309700   \n",
       "\n",
       "                          probability_2023-04-30  probability_2023-05-31  \\\n",
       "sam                                                                        \n",
       "66ed1e9a2eb969580fd48655                0.219711                0.215528   \n",
       "66faf45cf10760882e322529                0.084222                0.078443   \n",
       "66fbe2cbe46a2b0795091540                0.072284                0.053675   \n",
       "6700265e6c4395c4d218c8f2                0.124236                0.114045   \n",
       "6700b4851a0ddf7fd656a020                0.611307                0.625167   \n",
       "...                                          ...                     ...   \n",
       "652c5c7cc267fa05e8f2f102                0.447091                0.460656   \n",
       "652c811a9f064f069fe9c996                0.250612                0.241421   \n",
       "652c8e03f29c7405ded45813                0.122675                0.129171   \n",
       "652cd0510ad37e0610e0b9af                0.208465                0.193641   \n",
       "652cd8b5cde51e2e6cbc4215                0.323895                0.313708   \n",
       "\n",
       "                          probability_2023-06-30  probability_2023-07-31  \\\n",
       "sam                                                                        \n",
       "66ed1e9a2eb969580fd48655                0.184640                0.151324   \n",
       "66faf45cf10760882e322529                0.077725                0.073361   \n",
       "66fbe2cbe46a2b0795091540                0.036797                0.016359   \n",
       "6700265e6c4395c4d218c8f2                0.074688                0.076641   \n",
       "6700b4851a0ddf7fd656a020                0.614573                0.597129   \n",
       "...                                          ...                     ...   \n",
       "652c5c7cc267fa05e8f2f102                0.497611                0.509439   \n",
       "652c811a9f064f069fe9c996                0.273647                0.260370   \n",
       "652c8e03f29c7405ded45813                0.102170                0.079263   \n",
       "652cd0510ad37e0610e0b9af                0.186840                0.190531   \n",
       "652cd8b5cde51e2e6cbc4215                0.330969                0.299758   \n",
       "\n",
       "                          probability_2023-08-31  probability_2023-09-30  \\\n",
       "sam                                                                        \n",
       "66ed1e9a2eb969580fd48655                0.162094                0.199596   \n",
       "66faf45cf10760882e322529                0.083442                0.104369   \n",
       "66fbe2cbe46a2b0795091540                0.026006                0.024235   \n",
       "6700265e6c4395c4d218c8f2                0.070653                0.077346   \n",
       "6700b4851a0ddf7fd656a020                0.596010                0.582625   \n",
       "...                                          ...                     ...   \n",
       "652c5c7cc267fa05e8f2f102                0.465232                0.545561   \n",
       "652c811a9f064f069fe9c996                0.241394                0.256396   \n",
       "652c8e03f29c7405ded45813                0.092187                0.111097   \n",
       "652cd0510ad37e0610e0b9af                0.213075                0.250330   \n",
       "652cd8b5cde51e2e6cbc4215                0.295286                0.288356   \n",
       "\n",
       "                          probability_2023-10-31  probability_2023-11-30  ...  \\\n",
       "sam                                                                       ...   \n",
       "66ed1e9a2eb969580fd48655                0.239717                0.203458  ...   \n",
       "66faf45cf10760882e322529                0.097372                0.094936  ...   \n",
       "66fbe2cbe46a2b0795091540                0.024693                0.024277  ...   \n",
       "6700265e6c4395c4d218c8f2                0.085882                0.085841  ...   \n",
       "6700b4851a0ddf7fd656a020                0.584952                0.613980  ...   \n",
       "...                                          ...                     ...  ...   \n",
       "652c5c7cc267fa05e8f2f102                     NaN                     NaN  ...   \n",
       "652c811a9f064f069fe9c996                     NaN                     NaN  ...   \n",
       "652c8e03f29c7405ded45813                     NaN                     NaN  ...   \n",
       "652cd0510ad37e0610e0b9af                     NaN                     NaN  ...   \n",
       "652cd8b5cde51e2e6cbc4215                     NaN                     NaN  ...   \n",
       "\n",
       "                          probability_2024-05-31  probability_2024-06-30  \\\n",
       "sam                                                                        \n",
       "66ed1e9a2eb969580fd48655                0.278212                0.318245   \n",
       "66faf45cf10760882e322529                0.328587                0.615589   \n",
       "66fbe2cbe46a2b0795091540                0.062894                0.049699   \n",
       "6700265e6c4395c4d218c8f2                0.153880                0.138513   \n",
       "6700b4851a0ddf7fd656a020                0.580330                0.503884   \n",
       "...                                          ...                     ...   \n",
       "652c5c7cc267fa05e8f2f102                     NaN                     NaN   \n",
       "652c811a9f064f069fe9c996                     NaN                     NaN   \n",
       "652c8e03f29c7405ded45813                     NaN                     NaN   \n",
       "652cd0510ad37e0610e0b9af                     NaN                     NaN   \n",
       "652cd8b5cde51e2e6cbc4215                     NaN                     NaN   \n",
       "\n",
       "                          probability_2024-07-31  probability_2024-08-31  \\\n",
       "sam                                                                        \n",
       "66ed1e9a2eb969580fd48655                0.284824                0.252741   \n",
       "66faf45cf10760882e322529                0.608751                0.636792   \n",
       "66fbe2cbe46a2b0795091540                0.068690                0.087123   \n",
       "6700265e6c4395c4d218c8f2                0.185819                0.184892   \n",
       "6700b4851a0ddf7fd656a020                0.492739                0.470982   \n",
       "...                                          ...                     ...   \n",
       "652c5c7cc267fa05e8f2f102                     NaN                     NaN   \n",
       "652c811a9f064f069fe9c996                     NaN                     NaN   \n",
       "652c8e03f29c7405ded45813                     NaN                     NaN   \n",
       "652cd0510ad37e0610e0b9af                     NaN                     NaN   \n",
       "652cd8b5cde51e2e6cbc4215                     NaN                     NaN   \n",
       "\n",
       "                          probability_2024-09-30  probability_2024-10-31  \\\n",
       "sam                                                                        \n",
       "66ed1e9a2eb969580fd48655                     NaN                     NaN   \n",
       "66faf45cf10760882e322529                0.642359                     NaN   \n",
       "66fbe2cbe46a2b0795091540                0.111603                     NaN   \n",
       "6700265e6c4395c4d218c8f2                0.156710                     NaN   \n",
       "6700b4851a0ddf7fd656a020                0.416493                     NaN   \n",
       "...                                          ...                     ...   \n",
       "652c5c7cc267fa05e8f2f102                     NaN                     NaN   \n",
       "652c811a9f064f069fe9c996                     NaN                     NaN   \n",
       "652c8e03f29c7405ded45813                     NaN                     NaN   \n",
       "652cd0510ad37e0610e0b9af                     NaN                     NaN   \n",
       "652cd8b5cde51e2e6cbc4215                     NaN                     NaN   \n",
       "\n",
       "                          probability_2024-11-30  probability_2024-12-31  \\\n",
       "sam                                                                        \n",
       "66ed1e9a2eb969580fd48655                     NaN                     NaN   \n",
       "66faf45cf10760882e322529                     NaN                     NaN   \n",
       "66fbe2cbe46a2b0795091540                     NaN                     NaN   \n",
       "6700265e6c4395c4d218c8f2                     NaN                     NaN   \n",
       "6700b4851a0ddf7fd656a020                     NaN                     NaN   \n",
       "...                                          ...                     ...   \n",
       "652c5c7cc267fa05e8f2f102                     NaN                     NaN   \n",
       "652c811a9f064f069fe9c996                     NaN                     NaN   \n",
       "652c8e03f29c7405ded45813                     NaN                     NaN   \n",
       "652cd0510ad37e0610e0b9af                     NaN                     NaN   \n",
       "652cd8b5cde51e2e6cbc4215                     NaN                     NaN   \n",
       "\n",
       "                          probability_2025-01-31  probability_2025-02-28  \n",
       "sam                                                                       \n",
       "66ed1e9a2eb969580fd48655                     NaN                     NaN  \n",
       "66faf45cf10760882e322529                     NaN                     NaN  \n",
       "66fbe2cbe46a2b0795091540                     NaN                     NaN  \n",
       "6700265e6c4395c4d218c8f2                     NaN                     NaN  \n",
       "6700b4851a0ddf7fd656a020                     NaN                     NaN  \n",
       "...                                          ...                     ...  \n",
       "652c5c7cc267fa05e8f2f102                     NaN                     NaN  \n",
       "652c811a9f064f069fe9c996                     NaN                     NaN  \n",
       "652c8e03f29c7405ded45813                     NaN                     NaN  \n",
       "652cd0510ad37e0610e0b9af                     NaN                     NaN  \n",
       "652cd8b5cde51e2e6cbc4215                     NaN                     NaN  \n",
       "\n",
       "[1546067 rows x 25 columns]"
      ]
     },
     "execution_count": 45,
     "metadata": {},
     "output_type": "execute_result"
    }
   ],
   "source": [
    "probDf"
   ]
  },
  {
   "cell_type": "code",
   "execution_count": 48,
   "id": "6481c9a3-f5a6-497a-a763-6c07a425a360",
   "metadata": {},
   "outputs": [],
   "source": [
    "resultDf = main.getResultS3(probDf,subDf , \"Avg\", True)"
   ]
  },
  {
   "cell_type": "code",
   "execution_count": 51,
   "id": "97cd2e72-39de-4aff-945d-1cbb20fe9533",
   "metadata": {},
   "outputs": [
    {
     "name": "stdout",
     "output_type": "stream",
     "text": [
      "output loade in s3\n"
     ]
    }
   ],
   "source": [
    "avgs3csvPath  = 's3://dl-prod-analytics/sandbox/research/manu-rathi/RF_270624/' + nonSubTableYMD + '_Sam_Avg.csv'\n",
    "main.storeOutput(resultDf,avgs3csvPath)"
   ]
  },
  {
   "cell_type": "code",
   "execution_count": null,
   "id": "0912544a-1d7e-47d5-bd8d-cb2ebf5960ad",
   "metadata": {},
   "outputs": [],
   "source": []
  }
 ],
 "metadata": {
  "kernelspec": {
   "display_name": "Python 3 (ipykernel)",
   "language": "python",
   "name": "python3"
  },
  "language_info": {
   "codemirror_mode": {
    "name": "ipython",
    "version": 3
   },
   "file_extension": ".py",
   "mimetype": "text/x-python",
   "name": "python",
   "nbconvert_exporter": "python",
   "pygments_lexer": "ipython3",
   "version": "3.11.11"
  }
 },
 "nbformat": 4,
 "nbformat_minor": 5
}
